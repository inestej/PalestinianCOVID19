{
 "cells": [
  {
   "cell_type": "markdown",
   "metadata": {},
   "source": [
    "Our objective is to develop a mathematical model, which recovers from data of reported cases, the number of unreported cases for the COVID-19 epidemic in Palestine. We address the following fundamental issues concerning this epidemic: How will the epidemic evolve in Palestine with respect to the number of reported cases and unreported cases? How will the number of unreported cases influence the severity of the epidemic? How will public health measures, such as isolation, quarantine, and public closings, mitigate the final size of the epidemic?\n",
    "\n",
    "\n",
    "We use a set of reported data to model the epidemic in Palestine: data from the Palestinian Health Commission. It represents the epidemic transmission in Palestine. The first case was detected on March 5, 2020. Four deaths are reported until now for more than 400 total infected cases."
   ]
  },
  {
   "cell_type": "code",
   "execution_count": 36,
   "metadata": {
    "collapsed": true
   },
   "outputs": [],
   "source": [
    "import os\n",
    "import time\n",
    "from datetime import date, timedelta\n",
    "import matplotlib\n",
    "import matplotlib.pyplot as plt\n",
    "import pandas as pd\n",
    "import numpy as np\n",
    "import statistics\n",
    "import requests \n",
    "from bs4 import BeautifulSoup\n",
    "\n",
    "from mpl_toolkits import mplot3d\n",
    "import numpy as np\n",
    "import matplotlib.pyplot as plt\n",
    "\n",
    "import io\n",
    "import re\n",
    "import itertools\n",
    "import zipfile\n",
    "\n",
    "import plotly.express as px\n",
    "import plotly.graph_objects as go\n",
    "\n",
    "import requests\n",
    "import pandas as pd\n",
    "from datetime import datetime\n",
    "import pandas\n",
    "\n",
    "import numpy as np\n",
    "from scipy.integrate import odeint\n",
    "import matplotlib.pyplot as plt\n",
    "from scipy import interpolate\n",
    "import pylab\n",
    "from IPython.core.display import Image \n",
    "import scipy.integrate as spi\n",
    "import numpy as np\n",
    "import matplotlib.pyplot as plt\n",
    "from pandas.plotting import register_matplotlib_converters\n",
    "import datetime\n",
    "import math\n",
    "from pandas import DataFrame\n",
    "\n",
    "import datetime\n",
    "from datetime import date\n",
    "\n",
    "from scipy.optimize import minimize\n",
    "import matplotlib.pyplot as plt\n",
    "import numpy as np\n",
    "from scipy.integrate import odeint\n",
    "from scipy.integrate import solve_ivp\n",
    "import scipy\n",
    "import scipy.signal"
   ]
  },
  {
   "cell_type": "markdown",
   "metadata": {},
   "source": [
    "https://www.worldometers.info/coronavirus/country/state-of-palestine/\n",
    "and\n",
    " https://corona.ps/details"
   ]
  },
  {
   "cell_type": "code",
   "execution_count": 2,
   "metadata": {
    "collapsed": true
   },
   "outputs": [],
   "source": [
    "# https://www.worldometers.info/world-population/state-of-palestine-population/\n",
    "N = 5077760/1000"
   ]
  },
  {
   "cell_type": "code",
   "execution_count": 3,
   "metadata": {
    "collapsed": true
   },
   "outputs": [],
   "source": [
    "#data = pd.read_csv(\"data-rLdjy.csv\")"
   ]
  },
  {
   "cell_type": "code",
   "execution_count": 4,
   "metadata": {
    "collapsed": true
   },
   "outputs": [],
   "source": [
    "#data.tail()"
   ]
  },
  {
   "cell_type": "code",
   "execution_count": 5,
   "metadata": {
    "collapsed": true
   },
   "outputs": [],
   "source": [
    "#data.columns"
   ]
  },
  {
   "cell_type": "code",
   "execution_count": 6,
   "metadata": {
    "collapsed": true
   },
   "outputs": [],
   "source": [
    "#data = data.rename(columns = {'التاريخ' : 'date', \n",
    "#                   'اجمالي الاصابات': 'totalcases', \n",
    "#                   'حالات الشفاء' : 'recovery',\n",
    "#                   'حالات الوفاة' : 'death',\n",
    "#                   'الحالات الفعالة': 'activecases'\n",
    "#                   }\n",
    "#        )"
   ]
  },
  {
   "cell_type": "code",
   "execution_count": 7,
   "metadata": {
    "collapsed": true
   },
   "outputs": [],
   "source": [
    "#data = data.assign(\n",
    "#         date = pd.to_datetime(data.date, format='%Y-%m-%d')\n",
    "#         )"
   ]
  },
  {
   "cell_type": "code",
   "execution_count": 8,
   "metadata": {
    "collapsed": true
   },
   "outputs": [],
   "source": [
    "#data.tail()"
   ]
  },
  {
   "cell_type": "code",
   "execution_count": 9,
   "metadata": {
    "collapsed": true
   },
   "outputs": [],
   "source": [
    "#data.to_csv(r'palestine.csv', index = False)"
   ]
  },
  {
   "cell_type": "code",
   "execution_count": 10,
   "metadata": {
    "collapsed": true
   },
   "outputs": [],
   "source": [
    "#df = data.values"
   ]
  },
  {
   "cell_type": "code",
   "execution_count": 11,
   "metadata": {
    "collapsed": true
   },
   "outputs": [],
   "source": [
    "#ct = df[:,1]\n",
    "#print(ct)"
   ]
  },
  {
   "cell_type": "code",
   "execution_count": 12,
   "metadata": {
    "collapsed": true
   },
   "outputs": [],
   "source": [
    "#mt = df[:,3]\n",
    "#print(mt)"
   ]
  },
  {
   "cell_type": "code",
   "execution_count": 13,
   "metadata": {
    "collapsed": true
   },
   "outputs": [],
   "source": [
    "#https://github.com/CSSEGISandData/COVID-19\n",
    "#https://www.worldometers.info/coronavirus/country/state-of-palestine/\n",
    "ct = [0, 0, 7, 16, 19, 19, 26, 30, 30, 31, 35, 38, 38, 39, 44, 44, 47, 48, 52, 59, 59, 60, 71, 84, 91,\n",
    " 98, 108, 117, 119, 133, 161, 194, 217, 237, 254, 261, 263, 263, 267, 268, 290, 308, 374, 374, 402, 418, 439, 449,466]\n",
    "mt = [0, 0, 0, 0, 0, 0, 0, 0, 0, 0, 0, 0, 0, 0, 0, 0, 0, 0, 0, 0, 0, 1, 1, 1, 1, 1, 1, 1, 1, 1, 1, 1, 1, 1, 1, 1,\n",
    " 1, 2, 2, 2, 2, 2, 2, 2, 2, 2, 3, 3,4]"
   ]
  },
  {
   "cell_type": "code",
   "execution_count": 14,
   "metadata": {},
   "outputs": [
    {
     "data": {
      "text/plain": [
       "(True, 49)"
      ]
     },
     "execution_count": 14,
     "metadata": {},
     "output_type": "execute_result"
    }
   ],
   "source": [
    "len(ct)==len(mt), len(ct)"
   ]
  },
  {
   "cell_type": "code",
   "execution_count": 15,
   "metadata": {
    "collapsed": true
   },
   "outputs": [],
   "source": [
    "#data.columns"
   ]
  },
  {
   "cell_type": "code",
   "execution_count": 16,
   "metadata": {
    "collapsed": true
   },
   "outputs": [],
   "source": [
    "#df = data.values"
   ]
  },
  {
   "cell_type": "code",
   "execution_count": 17,
   "metadata": {
    "collapsed": true
   },
   "outputs": [],
   "source": [
    "#df[1,]"
   ]
  },
  {
   "cell_type": "code",
   "execution_count": 18,
   "metadata": {
    "collapsed": true
   },
   "outputs": [],
   "source": [
    "#df[40,2]"
   ]
  },
  {
   "cell_type": "code",
   "execution_count": 19,
   "metadata": {
    "collapsed": true
   },
   "outputs": [],
   "source": [
    "#n = len(df)-1\n",
    "n = len(ct)-1\n",
    "from datetime import date\n",
    "import datetime\n",
    "register_matplotlib_converters()\n",
    "\n",
    "Time = np.arange(0, n+1)\n",
    "\n",
    "# create dates\n",
    "start_day_palestine = date(2020, 3, 5)\n",
    "dates_palestine = [start_day_palestine + datetime.timedelta(i) for i in range(n+1)]\n",
    "\n",
    "start_day = date(2020, 2, 15)\n",
    "dates = [start_day + datetime.timedelta(i) for i in range(n+1)]\n",
    "#print(dates_palestine)"
   ]
  },
  {
   "cell_type": "code",
   "execution_count": 20,
   "metadata": {},
   "outputs": [
    {
     "data": {
      "image/png": "[encoded data removed]",
      "text/plain": [
       "<Figure size 432x288 with 1 Axes>"
      ]
     },
     "metadata": {},
     "output_type": "display_data"
    }
   ],
   "source": [
    "register_matplotlib_converters()\n",
    "plt.plot(dates_palestine, ct, color = 'darkblue', label = 'Infected')\n",
    "plt.plot(dates_palestine, mt, color = 'orange', label = 'Death')\n",
    "\n",
    "#plt.title('Data from Ines Tej')\n",
    "#plt.suptitle('Tunisia Trending')\n",
    "plt.legend()\n",
    "#plt.xlabel('Days')\n",
    "plt.ylabel('Number of reported cases in Palestine')\n",
    "plt.xticks(rotation=90)\n",
    "\n",
    "\n",
    "#fig = plt.subplots()\n",
    "#line1,= plt.plot(timeSet, CasesSet)\n",
    "line2,=plt.plot(dates_palestine, ct,'*',label='Reported cases')\n",
    "#plt.legend()\n",
    "#plt.xlabel('Time (days)')\n",
    "#plt.ylabel('Number of infected cases')\n",
    "#plt.title('Evolution of COVID-19s cases in Tunisia')\n",
    "plt.grid()\n",
    "plt.show()"
   ]
  },
  {
   "cell_type": "code",
   "execution_count": 21,
   "metadata": {},
   "outputs": [
    {
     "data": {
      "text/plain": [
       "0.008583690987124463"
      ]
     },
     "execution_count": 21,
     "metadata": {},
     "output_type": "execute_result"
    }
   ],
   "source": [
    "mt[n]/ct[n]"
   ]
  },
  {
   "cell_type": "code",
   "execution_count": 22,
   "metadata": {},
   "outputs": [
    {
     "name": "stdout",
     "output_type": "stream",
     "text": [
      "45\n"
     ]
    },
    {
     "data": {
      "text/plain": [
       "(1.0748663101604279, None, 45)"
      ]
     },
     "execution_count": 22,
     "metadata": {},
     "output_type": "execute_result"
    }
   ],
   "source": [
    "taux = [ct[i+1]/ct[i] for i in range(2,n-1)]\n",
    "statistics.median(taux), print(len(taux)), len(dates_palestine[2:n-1])"
   ]
  },
  {
   "cell_type": "code",
   "execution_count": 23,
   "metadata": {},
   "outputs": [
    {
     "data": {
      "image/png": "[encoded data removed]",
      "text/plain": [
       "<Figure size 432x288 with 1 Axes>"
      ]
     },
     "metadata": {},
     "output_type": "display_data"
    }
   ],
   "source": [
    "register_matplotlib_converters()\n",
    "plt.plot(dates_palestine[2:n-1], taux, 'b-', color = 'darkblue', label = 'taux')\n",
    "plt.plot(dates_palestine[2:n-1], [1 for i in range(2,n-1)], color = 'red')\n",
    "#plt.title('Data from Ines Tej')\n",
    "plt.suptitle('Palestine Trending')\n",
    "plt.legend()\n",
    "#plt.xlabel('Date')\n",
    "plt.ylabel('Taux')\n",
    "plt.xticks(rotation=90)\n",
    "plt.grid()\n",
    "\n",
    "plt.show()"
   ]
  },
  {
   "cell_type": "code",
   "execution_count": 24,
   "metadata": {
    "collapsed": true
   },
   "outputs": [],
   "source": [
    "#i = 30\n",
    "#df[i,0], df[i,1], df[i,2], df[i,3]"
   ]
  },
  {
   "cell_type": "code",
   "execution_count": 25,
   "metadata": {},
   "outputs": [
    {
     "name": "stdout",
     "output_type": "stream",
     "text": [
      "49\n",
      "47 48\n"
     ]
    },
    {
     "data": {
      "image/png": "[encoded data removed]",
      "text/plain": [
       "<Figure size 432x288 with 1 Axes>"
      ]
     },
     "metadata": {},
     "output_type": "display_data"
    }
   ],
   "source": [
    "import numpy as np\n",
    "timeSet = np.arange(0, n, 1)\n",
    "date = timeSet.reshape(-1,1)\n",
    "print(len(dates))\n",
    "n = len(ct)-1\n",
    "daily = [ct[i+1]-ct[i] for i in range(n-1)]\n",
    "print(len(daily), n)\n",
    "p = plt.plot(timeSet[1:n], daily, '-')\n",
    "plt.xlabel('Time (day)')\n",
    "\n",
    "plt.show(p)"
   ]
  },
  {
   "cell_type": "code",
   "execution_count": 26,
   "metadata": {},
   "outputs": [
    {
     "name": "stdout",
     "output_type": "stream",
     "text": [
      "49\n"
     ]
    },
    {
     "data": {
      "image/png": "[encoded data removed]",
      "text/plain": [
       "<Figure size 432x288 with 1 Axes>"
      ]
     },
     "metadata": {},
     "output_type": "display_data"
    }
   ],
   "source": [
    "fig = plt.subplots()\n",
    "timeSet = np.arange(0, n+1, 1)\n",
    "line1,= plt.plot(timeSet, ct)\n",
    "line2,=plt.plot(timeSet, ct,'*',label='Reported cases in Palestine')\n",
    "plt.legend()\n",
    "plt.xlabel('Time (days)')\n",
    "plt.ylabel('Number of infected cases')\n",
    "#plt.title('Evolution of COVID-19s cases in Palestine')\n",
    "plt.grid()\n",
    "print(len(ct))\n",
    "plt.show()"
   ]
  },
  {
   "cell_type": "code",
   "execution_count": 27,
   "metadata": {},
   "outputs": [
    {
     "name": "stdout",
     "output_type": "stream",
     "text": [
      "0.006757613730334684\n",
      "1 1\n"
     ]
    },
    {
     "data": {
      "image/png": "[encoded data removed]",
      "text/plain": [
       "<Figure size 432x288 with 1 Axes>"
      ]
     },
     "metadata": {},
     "output_type": "display_data"
    }
   ],
   "source": [
    "Tm = [mt[i]/ct[i] for i in range(22,n)]\n",
    "print(statistics.median(Tm))\n",
    "register_matplotlib_converters()\n",
    "plt.plot(dates_palestine[22:n], Tm, 'o-', color = 'darkblue', label = 'Rate')\n",
    "#plt.title('Données de Ines Tej')\n",
    "#plt.suptitle('Evolution of mortality rate in Tunisia')\n",
    "plt.legend()\n",
    "#plt.xlabel('Time (Days)')\n",
    "plt.ylabel('Mortality rate in Palestine')\n",
    "plt.xticks(rotation=90)\n",
    "plt.grid()\n",
    "print(mt[21], mt[22])\n",
    "plt.show()"
   ]
  },
  {
   "cell_type": "code",
   "execution_count": 28,
   "metadata": {},
   "outputs": [
    {
     "data": {
      "text/plain": [
       "(0.0038022813688212928, 0.014084507042253521, 0.006757613730334684)"
      ]
     },
     "execution_count": 28,
     "metadata": {},
     "output_type": "execute_result"
    }
   ],
   "source": [
    "min(Tm), max(Tm), statistics.median(Tm)"
   ]
  },
  {
   "cell_type": "code",
   "execution_count": 29,
   "metadata": {},
   "outputs": [
    {
     "data": {
      "text/plain": [
       "True"
      ]
     },
     "execution_count": 29,
     "metadata": {},
     "output_type": "execute_result"
    }
   ],
   "source": [
    "x0 = np.arange(n)\n",
    "ct = [ct[i] for i in range(n)]\n",
    "mt = [mt[i] for i in range(n)]\n",
    "len(mt)==len(x0)"
   ]
  },
  {
   "cell_type": "code",
   "execution_count": 30,
   "metadata": {},
   "outputs": [
    {
     "data": {
      "image/png": "[encoded data removed]",
      "text/plain": [
       "<Figure size 432x288 with 1 Axes>"
      ]
     },
     "metadata": {},
     "output_type": "display_data"
    }
   ],
   "source": [
    "plt.bar(x0, ct, align='center', alpha=0.5, label=\"Infected cases\")\n",
    "plt.bar(x0, mt, align='center', alpha=0.5, label=\"Death cases\")\n",
    "plt.ylabel('Number of infected and death cases')\n",
    "plt.title('Reported COVID-19 cases in Palestine')\n",
    "plt.show()"
   ]
  },
  {
   "cell_type": "code",
   "execution_count": 31,
   "metadata": {},
   "outputs": [
    {
     "data": {
      "image/png": "[encoded data removed]",
      "text/plain": [
       "<Figure size 432x288 with 1 Axes>"
      ]
     },
     "metadata": {},
     "output_type": "display_data"
    }
   ],
   "source": [
    "cum = [ct[i]/ct[i-1] for i in range(3,n)]\n",
    "xcum = [i for i in range(len(cum))]\n",
    "plt.bar(xcum, cum, align='center', alpha=0.5, label=\"Growth rate\")\n",
    "plt.ylabel('Growth rate')\n",
    "plt.plot(xcum, [1 for i in range(len(xcum))], color='red')\n",
    "plt.title('Growth rate of COVID-19 in Palestine')\n",
    "plt.show()"
   ]
  },
  {
   "cell_type": "code",
   "execution_count": 283,
   "metadata": {},
   "outputs": [
    {
     "data": {
      "text/plain": [
       "0.0066815144766146995"
      ]
     },
     "execution_count": 283,
     "metadata": {},
     "output_type": "execute_result"
    }
   ],
   "source": [
    "mt[n-1]/ct[n-1]"
   ]
  },
  {
   "cell_type": "code",
   "execution_count": 38,
   "metadata": {},
   "outputs": [
    {
     "name": "stderr",
     "output_type": "stream",
     "text": [
      "/usr/local/lib/python3.6/site-packages/scipy/signal/_arraytools.py:45: FutureWarning:\n",
      "\n",
      "Using a non-tuple sequence for multidimensional indexing is deprecated; use `arr[tuple(seq)]` instead of `arr[seq]`. In the future this will be interpreted as an array index, `arr[np.array(seq)]`, which will result either in an error or a different result.\n",
      "\n"
     ]
    },
    {
     "data": {
      "image/png": "[encoded data removed]",
      "text/plain": [
       "<Figure size 432x288 with 1 Axes>"
      ]
     },
     "metadata": {},
     "output_type": "display_data"
    }
   ],
   "source": [
    "cum = [(ct[i+1]-ct[i])/ct[i] for i in range(3,n-1)]\n",
    "xcum = [i for i in range(len(cum))]\n",
    "\n",
    "fig2, ax2 = plt.subplots(1,1)\n",
    "plt.plot(xcum, [0.1 for i in range(len(xcum))], color='red')\n",
    "plt.bar(xcum, cum, align='center', alpha=0.5, label=\"Growth rate\")\n",
    "plt.ylabel('Daily growth rate')\n",
    "plt.title('Growth rate of COVID-19 in Palestine')\n",
    "yhat = np.array(scipy.signal.savgol_filter(cum, 5, 1)) # window size 51, polynomial order 3\n",
    "\n",
    "\n",
    "#plt.plot(x0[2:],x3, '-', color='red')\n",
    "plt.plot(xcum, yhat)\n",
    "#plt.bar(xcum, x1[2:], align='center', alpha=0.5, label=\"Infected cases\")\n",
    "ax2.fill_between(xcum, 0, yhat)\n",
    "#plt.ylabel('Daily number of cases')\n",
    "plt.title('Flattened curve of reported COVID-19 cases in Palestine')\n",
    "\n",
    "plt.show()"
   ]
  },
  {
   "cell_type": "code",
   "execution_count": 39,
   "metadata": {},
   "outputs": [
    {
     "data": {
      "text/plain": [
       "0.07329813398316748"
      ]
     },
     "execution_count": 39,
     "metadata": {},
     "output_type": "execute_result"
    }
   ],
   "source": [
    "statistics.median(cum)"
   ]
  },
  {
   "cell_type": "code",
   "execution_count": 40,
   "metadata": {},
   "outputs": [],
   "source": [
    "x0 = [i for i in range(n-1)]\n",
    "x1 = [ct[i+1]-ct[i] for i in range(n-1)]\n",
    "x2 = [mt[i+1]-mt[i] for i in range(n-1)]\n",
    "x3 = [ct[i]/i for i in range(1,n-1)]"
   ]
  },
  {
   "cell_type": "code",
   "execution_count": 41,
   "metadata": {},
   "outputs": [
    {
     "data": {
      "image/png": "[encoded data removed]",
      "text/plain": [
       "<Figure size 432x288 with 1 Axes>"
      ]
     },
     "metadata": {},
     "output_type": "display_data"
    }
   ],
   "source": [
    "plt.bar(x0, x1, align='center', alpha=0.5, label=\"Infected cases\")\n",
    "plt.bar(x0, x2, align='center', alpha=0.5, label=\"Death cases\")\n",
    "plt.ylabel('Daily number of cases')\n",
    "plt.title('Daily reported COVID-19 cases in Palestine')\n",
    "#x3 = [round(x1[i]/3,1) for i in range(n-1)]\n",
    "plt.plot(x0[1:],x3, '-', color='red')\n",
    "\n",
    "plt.show()"
   ]
  },
  {
   "cell_type": "code",
   "execution_count": 42,
   "metadata": {},
   "outputs": [
    {
     "name": "stderr",
     "output_type": "stream",
     "text": [
      "/usr/local/lib/python3.6/site-packages/scipy/signal/_arraytools.py:45: FutureWarning:\n",
      "\n",
      "Using a non-tuple sequence for multidimensional indexing is deprecated; use `arr[tuple(seq)]` instead of `arr[seq]`. In the future this will be interpreted as an array index, `arr[np.array(seq)]`, which will result either in an error or a different result.\n",
      "\n"
     ]
    },
    {
     "data": {
      "image/png": "[encoded data removed]",
      "text/plain": [
       "<Figure size 432x288 with 1 Axes>"
      ]
     },
     "metadata": {},
     "output_type": "display_data"
    }
   ],
   "source": [
    "import scipy.signal\n",
    "import scipy\n",
    "\n",
    "x3 = np.array([x1[i] for i in range(2,n-1)])\n",
    "yhat = np.array(scipy.signal.savgol_filter(x3, 5, 1)) # window size 51, polynomial order 3\n",
    "x0 = np.array([i for i in range(len(x3))])\n",
    "\n",
    "fig2, ax2 = plt.subplots(1,1)\n",
    "#plt.plot(x0[2:],x3, '-', color='red')\n",
    "plt.plot(x0, yhat)\n",
    "plt.bar(x0, x1[2:], align='center', alpha=0.5, label=\"Infected cases\")\n",
    "ax2.fill_between(x0, 0, yhat)\n",
    "plt.ylabel('Daily number of cases')\n",
    "plt.title('Flattened curve of reported COVID-19 cases in Palestine')\n",
    "plt.show()"
   ]
  },
  {
   "cell_type": "code",
   "execution_count": 43,
   "metadata": {},
   "outputs": [
    {
     "data": {
      "image/png": "[encoded data removed]",
      "text/plain": [
       "<Figure size 432x288 with 1 Axes>"
      ]
     },
     "metadata": {},
     "output_type": "display_data"
    }
   ],
   "source": [
    "from matplotlib.patches import Polygon\n",
    "plt.plot(x0, yhat)\n",
    "\n",
    "ax2.fill_between(x0, 0, yhat)\n",
    "\n",
    "plt.show()"
   ]
  },
  {
   "cell_type": "code",
   "execution_count": 44,
   "metadata": {},
   "outputs": [
    {
     "data": {
      "image/png": "[encoded data removed]",
      "text/plain": [
       "<Figure size 432x288 with 1 Axes>"
      ]
     },
     "metadata": {},
     "output_type": "display_data"
    },
    {
     "name": "stdout",
     "output_type": "stream",
     "text": [
      "[ 2.34682662e+00 -3.10496938e-01  2.08948437e-02 -5.47206638e-06]\n"
     ]
    }
   ],
   "source": [
    "import numpy as np\n",
    "import matplotlib\n",
    "import matplotlib.pyplot as plt\n",
    "from scipy.optimize import curve_fit\n",
    "\n",
    "\n",
    "# \"x\" is data, a,b,c are parameters\n",
    "def func(x, a, b, c, d):\n",
    "   return a + b*x +c*x*x + d*x**4# example function\n",
    "\n",
    "\n",
    "xData = np.array(x0)\n",
    "yData = np.array(x3)\n",
    "\n",
    "# curve fit the data using curve_fit's default inital parameter estimates\n",
    "fittedParameters, pcov = curve_fit(func, xData, yData/2)\n",
    "\n",
    "y_fit = func(xData, *fittedParameters)\n",
    "\n",
    "plt.bar(xData, yData) # plot the raw data as bar chart\n",
    "plt.plot(xData, y_fit) # plot the equation using the fitted parameters\n",
    "plt.show()\n",
    "\n",
    "print(fittedParameters)"
   ]
  },
  {
   "cell_type": "code",
   "execution_count": null,
   "metadata": {
    "collapsed": true
   },
   "outputs": [],
   "source": []
  },
  {
   "cell_type": "code",
   "execution_count": 45,
   "metadata": {},
   "outputs": [
    {
     "data": {
      "image/png": "[encoded data removed]",
      "text/plain": [
       "<Figure size 432x288 with 1 Axes>"
      ]
     },
     "metadata": {},
     "output_type": "display_data"
    }
   ],
   "source": [
    "ct0 = [ct[i]/N*10**(6) for i in range(n)]\n",
    "mt0 = [mt[i]/N*10**(6) for i in range(n)]\n",
    "#register_matplotlib_converters()\n",
    "y = 0\n",
    "x = 0\n",
    "plt.plot(mt0[x+y:n], ct0[y:n-x], 'o', color = 'red', label = 'Relation between death and infected cases')\n",
    "#plt.title('Données de Ines Tej')\n",
    "#plt.suptitle('Taux de mortalité en Tunisie')\n",
    "plt.legend()\n",
    "plt.xlabel('Number of death at t0 (per million)')\n",
    "plt.ylabel('Number of cases at t0-x (per mile)')\n",
    "plt.xticks(rotation=90)\n",
    "plt.grid()\n",
    "plt.show()"
   ]
  },
  {
   "cell_type": "code",
   "execution_count": 46,
   "metadata": {},
   "outputs": [
    {
     "name": "stdout",
     "output_type": "stream",
     "text": [
      "0.028370221327967807\n",
      "0.03540503182114856\n"
     ]
    },
    {
     "data": {
      "image/png": "[encoded data removed]",
      "text/plain": [
       "<Figure size 432x288 with 1 Axes>"
      ]
     },
     "metadata": {},
     "output_type": "display_data"
    }
   ],
   "source": [
    "x = 19\n",
    "y = x + 2\n",
    "Tmx = [mt[i]/ct[i-x] for i in range(y,n-1)]\n",
    "\n",
    "print(statistics.median(Tmx)); print(statistics.mean(Tmx))\n",
    "register_matplotlib_converters()\n",
    "plt.plot(dates_palestine[y:n-1], Tmx, 'o', color = 'darkblue', label = 'Mortality rate with t0=19 days')\n",
    "#plt.title('Données de Ines Tej')\n",
    "#plt.suptitle('Taux de mortalité en Tunisie')\n",
    "plt.legend()\n",
    "#plt.xlabel('Date')\n",
    "plt.ylabel('Rate of mortality')\n",
    "plt.xticks(rotation=90)\n",
    "plt.grid()\n",
    "\n",
    "plt.show()"
   ]
  },
  {
   "cell_type": "code",
   "execution_count": 47,
   "metadata": {
    "collapsed": true
   },
   "outputs": [],
   "source": [
    "Mt0 = mt\n",
    "Ct0 = ct"
   ]
  },
  {
   "cell_type": "code",
   "execution_count": 48,
   "metadata": {},
   "outputs": [
    {
     "data": {
      "image/png": "[encoded data removed]",
      "text/plain": [
       "<Figure size 432x288 with 1 Axes>"
      ]
     },
     "metadata": {},
     "output_type": "display_data"
    }
   ],
   "source": [
    "x = 18\n",
    "y = x + 4\n",
    "Tmx0 = [Mt0[i]/Ct0[i-x] for i in range(y,n)]\n",
    "#Tmx1 = [Mt1[i]/Ct1[i-x] for i in range(y,n)]\n",
    "dates_palestine[y+6]#, Tmx0, Tmx1\n",
    "\n",
    "plt.plot(dates_palestine[y:n], Tmx0, 'b', color = 'darkblue', label = 'Palestinian Mortality Rate with t0=18 days')\n",
    "#plt.plot(dates_tunisia[y:n], Tmx1, 'b', color = 'green', label = 'French Mortality rate with t0=18 days')\n",
    "#plt.title('Données de Ines Tej')\n",
    "#plt.suptitle('Taux de mortalité en Tunisie')\n",
    "plt.legend()\n",
    "#plt.xlabel('Date')\n",
    "plt.ylabel('Rate of mortality')\n",
    "plt.xticks(rotation=90)\n",
    "plt.grid()\n",
    "\n",
    "plt.show()"
   ]
  },
  {
   "cell_type": "code",
   "execution_count": 49,
   "metadata": {},
   "outputs": [
    {
     "data": {
      "text/plain": [
       "datetime.date(2020, 3, 8)"
      ]
     },
     "execution_count": 49,
     "metadata": {},
     "output_type": "execute_result"
    }
   ],
   "source": [
    "dates[y]"
   ]
  },
  {
   "cell_type": "code",
   "execution_count": 50,
   "metadata": {},
   "outputs": [
    {
     "data": {
      "text/plain": [
       "(0.028370221327967807, 0.03540503182114856)"
      ]
     },
     "execution_count": 50,
     "metadata": {},
     "output_type": "execute_result"
    }
   ],
   "source": [
    "statistics.median(Tmx0[6:n]), statistics.mean(Tmx[6:n])\n",
    "statistics.median(Tmx), statistics.mean(Tmx)"
   ]
  },
  {
   "cell_type": "code",
   "execution_count": 284,
   "metadata": {},
   "outputs": [
    {
     "name": "stdout",
     "output_type": "stream",
     "text": [
      "3.950416786432883\n",
      "3.3759398496240602\n"
     ]
    },
    {
     "data": {
      "image/png": "[encoded data removed]",
      "text/plain": [
       "<Figure size 432x288 with 1 Axes>"
      ]
     },
     "metadata": {},
     "output_type": "display_data"
    },
    {
     "data": {
      "text/plain": [
       "(3.2666666666666666, 8.428571428571429)"
      ]
     },
     "execution_count": 284,
     "metadata": {},
     "output_type": "execute_result"
    }
   ],
   "source": [
    "pTN = [Ct0[i]/Ct0[i-18] for i in range(20,n)] \n",
    "print(statistics.median(pTN)), print(pTN[len(pTN)-1])\n",
    "register_matplotlib_converters()\n",
    "plt.plot(dates_palestine[20:n], pTN, 'b', color = 'green', label = 'Progression rate')\n",
    "#plt.title('Données de Ines Tej')\n",
    "#plt.suptitle('Evolution of mortality rate in Tunisia')\n",
    "plt.legend()\n",
    "#plt.xlabel('Time (Days)')\n",
    "#plt.ylabel('')\n",
    "plt.xticks(rotation=90)\n",
    "plt.grid()\n",
    "\n",
    "plt.show()\n",
    "min(pTN), max(pTN)"
   ]
  },
  {
   "cell_type": "code",
   "execution_count": 52,
   "metadata": {},
   "outputs": [
    {
     "name": "stdout",
     "output_type": "stream",
     "text": [
      "[8.428571428571429, 3.75, 3.736842105263158, 4.421052631578948, 3.5, 3.2666666666666666, 3.6, 3.774193548387097, 3.4, 3.5, 4.2368421052631575, 4.9743589743589745, 4.931818181818182, 5.386363636363637, 5.404255319148936, 5.4375, 5.0576923076923075, 4.4576271186440675, 4.52542372881356, 4.466666666666667, 4.084507042253521, 3.6666666666666665, 4.1098901098901095, 3.816326530612245, 3.7222222222222223, 3.572649572649573, 3.689075630252101, 3.3759398496240602]\n",
      "3.3759398496240602\n"
     ]
    },
    {
     "data": {
      "image/png": "[encoded data removed]",
      "text/plain": [
       "<Figure size 432x288 with 1 Axes>"
      ]
     },
     "metadata": {},
     "output_type": "display_data"
    }
   ],
   "source": [
    "#taux = 0.15\n",
    "print(pTN)\n",
    "p18 = pTN[len(pTN)-1]\n",
    "print(p18)\n",
    "#p12 = 1.8\n",
    "ct_2 = [round(Mt0[i]*p18/0.02, 1) for i in range(n)]\n",
    "ct_4 = [round(Mt0[i]*p18/0.04, 1) for i in range(n)]\n",
    "ct_5 = [round(Mt0[i]*p18/0.005, 1) for i in range(n)]\n",
    "ct_15 = [round(Mt0[i]*p18/0.15, 1) for i in range(n)]\n",
    "\n",
    "register_matplotlib_converters()\n",
    "\n",
    "plt.plot(dates_palestine[:n], ct, color = 'black', label = 'Reported cases')\n",
    "plt.plot(dates_palestine[:n], ct_5,color = 'orange',label = 'Estimated cases, T=0.5%')\n",
    "plt.plot(dates_palestine[:n], ct_2,color = 'red',label = 'Estimated cases, T=2%')\n",
    "#plt.plot(dates_palestine[:n], ct_4,color = 'green',label = 'Estimated cases, T=4%')\n",
    "#plt.plot(dates_palestine[:n], ct_15,color = 'darkblue',label = 'Estimated cases, T=15%')\n",
    "#plt.plot(dates_palestine[6:n], Ct0[6:n],color = 'blue',label = 'Reported cases')\n",
    "#plt.plot(dates_palestine, Ct,color = 'darkblue',label = 'Death')\n",
    "#plt.plot(dates_palestine[:n], Ct[:n],color = 'darkblue',label = 'Estimated number')\n",
    "\n",
    "#plt.title('Data from Ines Tej')\n",
    "#plt.suptitle('Palestine Trending')\n",
    "plt.legend()\n",
    "#plt.xlabel('Days')\n",
    "plt.ylabel('Estimated number of COVID-19 in Palestine')\n",
    "plt.xticks(rotation=90)\n",
    "plt.grid()\n",
    "plt.show()"
   ]
  },
  {
   "cell_type": "code",
   "execution_count": 54,
   "metadata": {},
   "outputs": [
    {
     "name": "stdout",
     "output_type": "stream",
     "text": [
      "[0.0, 0.0, 0.0, 0.0, 0.0, 0.0, 0.0, 0.0, 0.0, 0.0, 0.0, 0.0, 0.0, 0.0, 0.0, 0.0, 0.0, 0.0, 0.0, 0.0, 0.0, 168.8, 168.8, 168.8, 168.8, 168.8, 168.8, 168.8, 168.8, 168.8, 168.8, 168.8, 168.8, 168.8, 168.8, 168.8, 168.8, 337.6, 337.6, 337.6, 337.6, 337.6, 337.6, 337.6, 337.6, 337.6, 506.4, 506.4]\n"
     ]
    }
   ],
   "source": [
    "print(ct_2)"
   ]
  },
  {
   "cell_type": "code",
   "execution_count": 55,
   "metadata": {},
   "outputs": [
    {
     "data": {
      "text/plain": [
       "4.511358574610245"
      ]
     },
     "execution_count": 55,
     "metadata": {},
     "output_type": "execute_result"
    }
   ],
   "source": [
    "ct_5[n-1]/ct[n-1]"
   ]
  },
  {
   "cell_type": "code",
   "execution_count": 56,
   "metadata": {},
   "outputs": [
    {
     "data": {
      "text/plain": [
       "1.1278396436525613"
      ]
     },
     "execution_count": 56,
     "metadata": {},
     "output_type": "execute_result"
    }
   ],
   "source": [
    "ct_2[n-1]/ct[n-1]"
   ]
  },
  {
   "cell_type": "code",
   "execution_count": 57,
   "metadata": {},
   "outputs": [
    {
     "name": "stdout",
     "output_type": "stream",
     "text": [
      "[0.0, 0.0, 31.579510022271712, 72.18173719376392, 85.71581291759466, 85.71581291759466, 117.29532293986637, 135.34075723830736, 135.34075723830736, 139.8521158129176, 157.89755011135858, 171.43162583518932, 171.43162583518932, 175.94298440979955, 198.49977728285077, 198.49977728285077, 212.0338530066815, 216.54521158129174, 234.59064587973273, 266.17015590200447, 266.17015590200447, 270.6815144766147, 320.3064587973274, 378.9541202672606, 410.5336302895323, 442.113140311804, 487.22672605790643, 527.8289532293986, 536.8516703786191, 600.0106904231626, 726.3287305122494, 875.2035634743875, 978.9648106904231, 1069.191982182628, 1145.8850779510021, 1177.4645879732739, 1186.4873051224943, 1186.4873051224943, 1204.5327394209353, 1209.0440979955456, 1308.293986636971, 1389.4984409799554, 1687.2481069042317, 1687.2481069042317, 1813.5661469933184, 1885.7478841870823, 1980.4864142538972, 2025.5999999999997]\n",
      "[0.0, 0.0, 7.894877505567928, 18.04543429844098, 21.428953229398665, 21.428953229398665, 29.32383073496659, 33.83518930957684, 33.83518930957684, 34.9630289532294, 39.474387527839646, 42.85790645879733, 42.85790645879733, 43.98574610244989, 49.62494432071269, 49.62494432071269, 53.00846325167038, 54.136302895322935, 58.64766146993318, 66.54253897550112, 66.54253897550112, 67.67037861915368, 80.07661469933186, 94.73853006681514, 102.63340757238308, 110.528285077951, 121.80668151447661, 131.95723830734966, 134.21291759465478, 150.00267260579065, 181.58218262806236, 218.80089086859687, 244.74120267260577, 267.297995545657, 286.47126948775053, 294.36614699331847, 296.62182628062357, 296.62182628062357, 301.1331848552338, 302.2610244988864, 327.0734966592428, 347.37461024498884, 421.8120267260579, 421.8120267260579, 453.3915367483296, 471.43697104677057, 495.1216035634743, 506.3999999999999]\n"
     ]
    },
    {
     "data": {
      "text/plain": [
       "(None, None)"
      ]
     },
     "execution_count": 57,
     "metadata": {},
     "output_type": "execute_result"
    }
   ],
   "source": [
    "Ct = [ct[i]*ct_5[n-1]/ct[n-1] for i in range(n)]\n",
    "Ct2 = [ct[i]*ct_2[n-1]/ct[n-1] for i in range(n)]\n",
    "print(Ct), print(Ct2)"
   ]
  },
  {
   "cell_type": "code",
   "execution_count": 58,
   "metadata": {},
   "outputs": [
    {
     "data": {
      "image/png": "[encoded data removed]",
      "text/plain": [
       "<Figure size 432x288 with 1 Axes>"
      ]
     },
     "metadata": {},
     "output_type": "display_data"
    }
   ],
   "source": [
    "register_matplotlib_converters()\n",
    "\n",
    "plt.plot(dates_palestine[:n], ct, color = 'black', label = 'Reported cases')\n",
    "#plt.plot(dates_palestine[:n], ct_5,color = 'orange',label = 'Estimated cases, T=0.5%')\n",
    "plt.plot(dates_palestine[:n], Ct2,color = 'red',label = 'Estimated cases, T=2%')\n",
    "#plt.plot(dates_palestine[:n], ct_4,color = 'green',label = 'Estimated cases, T=4%')\n",
    "#plt.plot(dates_palestine[:n], ct_15,color = 'darkblue',label = 'Estimated cases, T=15%')\n",
    "#plt.plot(dates_palestine[6:n], Ct0[6:n],color = 'blue',label = 'Reported cases')\n",
    "#plt.plot(dates_palestine, Ct,color = 'darkblue',label = 'Death')\n",
    "plt.plot(dates_palestine[:n], Ct[:n],color = 'orange',label = 'Estimated number, T=0.5%')\n",
    "\n",
    "#plt.title('Data from Ines Tej')\n",
    "#plt.suptitle('Palestine Trending')\n",
    "plt.legend()\n",
    "#plt.xlabel('Days')\n",
    "plt.ylabel('Estimated number of COVID-19 in Palestine')\n",
    "plt.xticks(rotation=90)\n",
    "plt.grid()\n",
    "plt.show()"
   ]
  },
  {
   "cell_type": "code",
   "execution_count": 53,
   "metadata": {},
   "outputs": [
    {
     "name": "stdout",
     "output_type": "stream",
     "text": [
      "[0.0, 0.0, 0.0, 0.0, 0.0, 0.0, 0.0, 0.0, 0.0, 0.0, 0.0, 0.0, 0.0, 0.0, 0.0, 0.0, 0.0, 0.0, 0.0, 0.0, 0.0, 675.2, 675.2, 675.2, 675.2, 675.2, 675.2, 675.2, 675.2, 675.2, 675.2, 675.2, 675.2, 675.2, 675.2, 675.2, 675.2, 1350.4, 1350.4, 1350.4, 1350.4, 1350.4, 1350.4, 1350.4, 1350.4, 1350.4, 2025.6, 2025.6]\n"
     ]
    }
   ],
   "source": [
    "print(ct_5)"
   ]
  },
  {
   "cell_type": "code",
   "execution_count": 59,
   "metadata": {},
   "outputs": [
    {
     "data": {
      "text/plain": [
       "44.411483253588514"
      ]
     },
     "execution_count": 59,
     "metadata": {},
     "output_type": "execute_result"
    }
   ],
   "source": [
    "#Gaza au 18 avril 2020 :\n",
    "13/418*1428"
   ]
  },
  {
   "cell_type": "markdown",
   "metadata": {},
   "source": [
    "Le nouvel article de Marc, avec une formule de R3d ne fonctionne pas ici... Ou alors le calcul de la formule n'est pas bon. Je dois vérifier tout ça, mais une autre fois. L'article Abdeljaoued-Tej et Dhenain fonctionne suffisamment. "
   ]
  },
  {
   "cell_type": "code",
   "execution_count": 60,
   "metadata": {},
   "outputs": [
    {
     "name": "stdout",
     "output_type": "stream",
     "text": [
      "[1.0, 1.0, 1.0, 1.0, 1.0, 1.0, 1.0, 1.0, 1.0, 1.0, 1.0, 1.0, 1.0, 2.0, 2.0, 2.0, 1.0, 1.0, 1.0, 1.0, 1.0, 1.0, 1.5]\n"
     ]
    }
   ],
   "source": [
    "Fr = 0.02\n",
    "m = len(Mt0)-1\n",
    "R3d = [(Mt0[i]/Fr)/(Mt0[i-3]/Fr) for i in range(24,m)]\n",
    "print(R3d)"
   ]
  },
  {
   "cell_type": "code",
   "execution_count": 61,
   "metadata": {},
   "outputs": [
    {
     "name": "stdout",
     "output_type": "stream",
     "text": [
      "1.0\n"
     ]
    },
    {
     "data": {
      "image/png": "[encoded data removed]",
      "text/plain": [
       "<Figure size 432x288 with 1 Axes>"
      ]
     },
     "metadata": {},
     "output_type": "display_data"
    }
   ],
   "source": [
    "r3d = statistics.median(R3d)\n",
    "print(r3d)\n",
    "ct_2 = [round(Mt0[i]*(1+r3d)**6/0.02, 1) for i in range(n)]\n",
    "ct_4 = [round(Mt0[i]*(1+r3d)**6/0.04, 1) for i in range(n)]\n",
    "ct_5 = [round(Mt0[i]*(1+r3d)**6/0.005, 1) for i in range(n)]\n",
    "ct_15 = [round(Mt0[i]*(1+r3d)**6/0.15, 1) for i in range(n)]\n",
    "\n",
    "register_matplotlib_converters()\n",
    "\n",
    "plt.plot(dates_palestine[:n], ct, color = 'black', label = 'Reported cases')\n",
    "plt.plot(dates_palestine[:n], ct_5,color = 'orange',label = 'Estimated cases, T=0.5%')\n",
    "plt.plot(dates_palestine[:n], ct_2,color = 'red',label = 'Estimated cases, T=2%')\n",
    "plt.plot(dates_palestine[:n], ct_4,color = 'green',label = 'Estimated cases, T=4%')\n",
    "plt.plot(dates_palestine[:n], ct_15,color = 'darkblue',label = 'Estimated cases, T=15%')\n",
    "#plt.plot(dates_palestine[6:n], Ct0[6:n],color = 'blue',label = 'Reported cases')\n",
    "\n",
    "#plt.title('Data from Ines Tej')\n",
    "#plt.suptitle('Palestine Trending')\n",
    "plt.legend()\n",
    "#plt.xlabel('Days')\n",
    "plt.ylabel('Estimated number of COVID-19 in Palestine')\n",
    "plt.xticks(rotation=90)\n",
    "plt.grid()\n",
    "plt.show()"
   ]
  },
  {
   "cell_type": "code",
   "execution_count": 62,
   "metadata": {},
   "outputs": [
    {
     "data": {
      "text/plain": [
       "(48, 48)"
      ]
     },
     "execution_count": 62,
     "metadata": {},
     "output_type": "execute_result"
    }
   ],
   "source": [
    "len(ct_2), len(Ct)"
   ]
  },
  {
   "cell_type": "code",
   "execution_count": null,
   "metadata": {
    "collapsed": true
   },
   "outputs": [],
   "source": []
  },
  {
   "cell_type": "code",
   "execution_count": null,
   "metadata": {
    "collapsed": true
   },
   "outputs": [],
   "source": []
  },
  {
   "cell_type": "code",
   "execution_count": null,
   "metadata": {
    "collapsed": true
   },
   "outputs": [],
   "source": []
  },
  {
   "cell_type": "code",
   "execution_count": 340,
   "metadata": {},
   "outputs": [
    {
     "data": {
      "text/plain": [
       "3.3759398496240602"
      ]
     },
     "execution_count": 340,
     "metadata": {},
     "output_type": "execute_result"
    }
   ],
   "source": [
    "p18"
   ]
  },
  {
   "cell_type": "code",
   "execution_count": 342,
   "metadata": {},
   "outputs": [
    {
     "name": "stdout",
     "output_type": "stream",
     "text": [
      "[0.0, 0.0, 0.10367483296213809, 0.23697104677060135, 0.28140311804008905, 0.28140311804008905, 0.3850779510022272, 0.44432071269487755, 0.44432071269487755, 0.4591314031180401, 0.5183741648106904, 0.5628062360801781, 0.5628062360801781, 0.5776169265033407, 0.6516703786191537, 0.6516703786191537, 0.6961024498886415, 0.7109131403118041, 0.7701559020044544, 0.8738307349665924, 0.8738307349665924, 0.8886414253897551, 1.0515590200445435, 1.244097995545657, 1.3477728285077952, 1.4514476614699332, 1.599554565701559, 1.7328507795100223, 1.7624721603563474, 1.9698218262806237, 2.3845211581291763, 2.873273942093541, 3.2139198218262806, 3.5101336302895323, 3.761915367483296, 3.865590200445434, 3.8952115812917594, 3.8952115812917594, 3.95445434298441, 3.9692650334075723, 4.295100222717149, 4.561692650334076, 5.539198218262807, 5.539198218262807, 5.953897550111359, 6.19086859688196, 6.501893095768374, 6.65]\n"
     ]
    }
   ],
   "source": [
    "cx4 = [ct[i]/p18*0.05 for i in range(n)]\n",
    "print(cx4)"
   ]
  },
  {
   "cell_type": "code",
   "execution_count": null,
   "metadata": {
    "collapsed": true
   },
   "outputs": [],
   "source": []
  },
  {
   "cell_type": "code",
   "execution_count": null,
   "metadata": {
    "collapsed": true
   },
   "outputs": [],
   "source": []
  },
  {
   "cell_type": "code",
   "execution_count": null,
   "metadata": {
    "collapsed": true
   },
   "outputs": [],
   "source": []
  },
  {
   "cell_type": "code",
   "execution_count": null,
   "metadata": {
    "collapsed": true
   },
   "outputs": [],
   "source": []
  },
  {
   "cell_type": "code",
   "execution_count": null,
   "metadata": {
    "collapsed": true
   },
   "outputs": [],
   "source": []
  },
  {
   "cell_type": "code",
   "execution_count": null,
   "metadata": {
    "collapsed": true
   },
   "outputs": [],
   "source": []
  },
  {
   "cell_type": "markdown",
   "metadata": {},
   "source": [
    "### Assumption\n",
    "Assume that infected individuals were not infectious during the incubation period (Wu et al. 2020; Zhou et al. 2020)\n",
    "Assume population growth rate and death rate are zero\n",
    "Assume people exhibit consistent behaviors before and during the epidemic\n",
    "Assume no quarantine or other mitigation intervention is implemented\n",
    "\n",
    "### Parameters\n",
    "The value of R0 takes the newest estimation from Estimation of R0.ipynb as of writing this study Feb 15, 2020, while research varies from 1.4 to 3.9 (Who et al. 2020; Zhou et al. 2020; Read et al. 2020). \n",
    "The date Tunisia implemented lockdown, March 26, 2020, is used as the first day of the forecast for all the city.\n",
    "The first case is documented on March 2, 2020 in Tunisia, which is used as the first day of the forecast for Tunisia. The number of initial infectious takes the value of confirm counts on March 26, 2020.\n",
    "\n",
    "### Model\n",
    "\n",
    "A typical SEIR (susceptible, exposed, infectious, removed) model can be described as a system of differential equations\n",
    "\n",
    "\\begin{eqnarray}\n",
    "\\frac{dS(t)}{dt}& = &-\\beta \\frac{S(t)I(t)}{N}\\\\\n",
    "\\frac{dE(t)}{dt}& = &\\beta \\frac{S(t)I(t)}{N} - \\alpha E(t)\\\\\n",
    "\\frac{dI(t)}{dt}& = &\\alpha E(t) - \\gamma I(t)\\\\\n",
    "\\frac{dR(t)}{dt}& = &\\gamma I(t) \n",
    "\\end{eqnarray}\n",
    "\n",
    "where,\n",
    "$S(t)$ is the number of susceptible at time $t$, $E(t)$ is the number of exposed at time $t$, $I(t)$ is the number of infectious at time $t$, $R(t)$ is the number of removed, which includes the number of recovered and dead at time $t$, $N(t)$ is the population at time $t$ and $N(t) = S(t) + E(t) + I(t) + R(t)$.\n",
    "\n",
    "### Analysis"
   ]
  },
  {
   "cell_type": "code",
   "execution_count": null,
   "metadata": {
    "collapsed": true
   },
   "outputs": [],
   "source": []
  },
  {
   "cell_type": "code",
   "execution_count": 228,
   "metadata": {},
   "outputs": [
    {
     "data": {
      "image/png": "[encoded data removed]",
      "text/plain": [
       "<Figure size 432x288 with 1 Axes>"
      ]
     },
     "metadata": {},
     "output_type": "display_data"
    },
    {
     "name": "stdout",
     "output_type": "stream",
     "text": [
      "0.7 1.4 0.9 45813.0 60 2020-05-04\n"
     ]
    }
   ],
   "source": [
    "register_matplotlib_converters()\n",
    "alpha = 0.7 \n",
    "beta = 1.4\n",
    "gamma = 0.9\n",
    "N = 5077760\n",
    "S0=N/1000\n",
    "# differential equations\n",
    "def SEIR(inivalue, _):\n",
    "    Y = np.zeros(4)\n",
    "    X = inivalue\n",
    "    # dS/dt\n",
    "    Y[0] = - (beta * X[0] * X[2]) / N\n",
    "    # dE/dt\n",
    "    Y[1] = (beta * X[0] * X[2]) / N - X[1] * alpha\n",
    "    # dI/dt\n",
    "    Y[2] = X[1] * alpha - gamma * X[2]\n",
    "    # dR/dt\n",
    "    Y[3] = gamma * X[2]\n",
    "    return Y\n",
    "\n",
    "T = 60\n",
    "Time = np.arange(0, T + 1)\n",
    "\n",
    "# create dates\n",
    "from datetime import date\n",
    "import datetime\n",
    "start_day_palestine = date(2020, 3, 5)\n",
    "dates_palestine = [start_day_palestine + datetime.timedelta(i) for i in range(T + 1)]\n",
    "\n",
    "\n",
    "start_day = date(2020, 2, 25)\n",
    "dates = [start_day + datetime.timedelta(n) for n in range(T + 1)]\n",
    "\n",
    "INI = (N, 0, 1, 0)\n",
    "# solve the system of differential equations\n",
    "RES = spi.odeint(SEIR, INI, Time)\n",
    "\n",
    "dt = [start_day_palestine + datetime.timedelta(i) for i in range(n)]\n",
    "\n",
    "#plt.plot(dates_palestine, RES[:,0],color = 'darkblue',label = 'Susceptible')\n",
    "plt.plot(dates_palestine, RES[:,1],color = 'orange',label = 'Exposed')\n",
    "plt.plot(dates_palestine, RES[:,2],color = 'red',label = 'Infected')\n",
    "#plt.plot(dates_palestine, RES[:,3],color = 'green',label = 'Removed')\n",
    "plt.plot(dt, ct, color = 'black', label = 'Reported cases')\n",
    "\n",
    "#plt.title('Data from Ines Tej')\n",
    "plt.suptitle('SEIR Forecast: Palestine Trending')\n",
    "plt.legend()\n",
    "plt.xlabel('Date')\n",
    "plt.ylabel('Proportion')\n",
    "plt.xticks(rotation=90)\n",
    "plt.grid()\n",
    "plt.show()\n",
    "\n",
    "print(alpha, beta, gamma, round(max(RES[:,2]), 0), np.argmax(RES[:,2]), start_day_palestine + datetime.timedelta(int(np.argmax(RES[:,2]))))\n",
    "# plt.savefig('palestine.png')"
   ]
  },
  {
   "cell_type": "code",
   "execution_count": 229,
   "metadata": {},
   "outputs": [
    {
     "name": "stdout",
     "output_type": "stream",
     "text": [
      "61\n"
     ]
    },
    {
     "data": {
      "text/plain": [
       "array([0.73930048, 1.38084689, 0.96238144])"
      ]
     },
     "execution_count": 229,
     "metadata": {},
     "output_type": "execute_result"
    }
   ],
   "source": [
    "print(len(Time))\n",
    "def sumsq(p):\n",
    "    alpha, beta, gamma = p\n",
    "    def SEIR(inivalue, _):\n",
    "        Y = np.zeros(4)\n",
    "        X = inivalue\n",
    "        # dS/dt\n",
    "        Y[0] = - (beta * X[0] * X[2]) / N\n",
    "        # dE/dt\n",
    "        Y[1] = (beta * X[0] * X[2]) / N - X[1] * alpha\n",
    "        # dI/dt\n",
    "        Y[2] = X[1] * alpha - gamma * X[2]\n",
    "        # dR/dt\n",
    "        Y[3] = gamma * X[2]\n",
    "        return Y\n",
    "    \n",
    "    RES = spi.odeint(SEIR, (N, 0, 1, 0), Time[:n])\n",
    "    #print(RES)\n",
    "    return(sum(RES[:,2] - ct)**2)\n",
    "\n",
    "msol = minimize(sumsq, [0.7, 1.2, 1.2], method='Nelder-Mead')\n",
    "msol.x"
   ]
  },
  {
   "cell_type": "code",
   "execution_count": 230,
   "metadata": {},
   "outputs": [
    {
     "data": {
      "image/png": "[encoded data removed]",
      "text/plain": [
       "<Figure size 432x288 with 1 Axes>"
      ]
     },
     "metadata": {},
     "output_type": "display_data"
    },
    {
     "name": "stdout",
     "output_type": "stream",
     "text": [
      "0.7393004782746432 1.3808468918161858 0.9623814418526999 113171.0 84 2020-05-27\n"
     ]
    }
   ],
   "source": [
    "# differential equations\n",
    "alpha, beta, gamma = msol.x\n",
    "def SEIR(inivalue, _):\n",
    "    Y = np.zeros(4)\n",
    "    X = inivalue\n",
    "    # dS/dt\n",
    "    Y[0] = - (beta * X[0] * X[2]) / N\n",
    "    # dE/dt\n",
    "    Y[1] = (beta * X[0] * X[2]) / N - X[1] * alpha\n",
    "    # dI/dt\n",
    "    Y[2] = X[1] * alpha - gamma * X[2]\n",
    "    # dR/dt\n",
    "    Y[3] = gamma * X[2]\n",
    "    return Y\n",
    "\n",
    "T = 100\n",
    "Time = np.arange(0, T + 1)\n",
    "\n",
    "# create dates\n",
    "start_day_palestine = date(2020, 3, 4)\n",
    "dates_palestine = [start_day_palestine + datetime.timedelta(n) for n in range(T + 1)]\n",
    "\n",
    "start_day = date(2020, 3, 3)\n",
    "dates = [start_day + datetime.timedelta(n) for n in range(T + 1)]\n",
    "\n",
    "INI = (N, 0, 1, 0)\n",
    "# solve the system of differential equations\n",
    "RES = spi.odeint(SEIR, INI, Time)\n",
    "\n",
    "dt = [start_day_palestine + datetime.timedelta(i) for i in range(n)]\n",
    "\n",
    "#plt.plot(dates_palestine[28:], RES[28:,0],color = 'darkblue',label = 'Susceptible')\n",
    "plt.plot(dates_palestine[28:], RES[28:,1],color = 'orange',label = 'Exposed')\n",
    "plt.plot(dates_palestine[28:], RES[28:,2],color = 'red',label = 'Infected')\n",
    "#plt.plot(dates_palestine[28:], RES[28:,3],color = 'green',label = 'Removed')\n",
    "plt.plot(dt[28:], ct[28:], \"k*:\", color = 'black', label = 'Reported cases')\n",
    "\n",
    "#plt.title('Data from Ines Tej')\n",
    "plt.suptitle('SEIR Forecast: Palestine Trending')\n",
    "plt.legend()\n",
    "plt.xlabel('Date')\n",
    "plt.ylabel('Number of cases')\n",
    "plt.xticks(rotation=90)\n",
    "plt.grid()\n",
    "plt.show()\n",
    "\n",
    "print(alpha, beta, gamma, round(max(RES[:,2]), 0), np.argmax(RES[:,2]), start_day_palestine + datetime.timedelta(int(np.argmax(RES[:,2]))))\n",
    "# plt.savefig('palestine.png')"
   ]
  },
  {
   "cell_type": "code",
   "execution_count": 231,
   "metadata": {},
   "outputs": [
    {
     "data": {
      "text/plain": [
       "0.9623814418526999"
      ]
     },
     "execution_count": 231,
     "metadata": {},
     "output_type": "execute_result"
    }
   ],
   "source": [
    "gamma"
   ]
  },
  {
   "cell_type": "code",
   "execution_count": null,
   "metadata": {
    "collapsed": true
   },
   "outputs": [],
   "source": []
  },
  {
   "cell_type": "code",
   "execution_count": null,
   "metadata": {
    "collapsed": true
   },
   "outputs": [],
   "source": []
  },
  {
   "cell_type": "markdown",
   "metadata": {},
   "source": [
    "#### Keywords: \n",
    "corona virus; reported and unreported cases; isolation; quarantine; public closings; epidemic mathematical model\n",
    "\n",
    "## Introduction\n",
    "Our objective is to develop a mathematical model, which recovers from data of reported cases, the number of unreported cases for the COVID-19 epidemic in Tunisia. For this epidemic, a modeling approach has been developed in `Tang et al. 2020`, which did not consider unreported cases. Our work continues the investigation in `Magal et al. (2020)`, `Ducrot et al. (2020)` and `Liu et al. (2020)` of the fundamental problem of parameter identification in mathematical epidemic models. We address the following fundamental issues concerning this epidemic: How will the epidemic evolve in Tunisia with respect to the number of reported cases and unreported cases? How will the number of unreported cases influence the severity of the epidemic? How will public health measures, such as isolation, quarantine, and public closings, mitigate the final size of the epidemic?\n",
    "\n",
    "\n",
    "## Results\n",
    "\n",
    "Our model consists of the following system of ordinary differential equations: \n",
    "\n",
    "\\begin{eqnarray}\n",
    "S'(t) &= &-\\tau S(t) [I(t) + E(t)], \\\\\n",
    "E'(t) &=& \\nu_2 I(t) - \\eta E(t), \\\\\n",
    "I'(t) &=& \\tau S(t) [I(t) + E(t)] - \\nu I(t), \\\\\n",
    "R'(t) &=& \\nu_1 I(t) - \\eta R(t). \\\\ \n",
    "\\end{eqnarray}\n",
    "\n",
    "Here, $t \\geq t_0$ is time in days, $t_0$ is the beginning date of the epidemic, $S(t)$ is the number of individuals susceptible to infection at time $t$, $I(t)$ is the number of asymptomatic infectious individuals at time $t$, $R(t)$ is the number of reported symptomatic infectious individuals (i.e. symptomatic infectious with sever symptoms) at time $t$, and $E(t)$ is the number of unreported symptomatic infectious individuals (i.e. symptomatic infectious with mild symptoms) at time $t$. This system is supplemented by initial data\n",
    "$$S(t_0) = S0 > 0,\\; I(t_0) = I_0 > 0,\\; R(t_0) = 0\\qquad and\\qquad E(t_0) = E_0 \\geq 0.$$\n",
    "\n",
    "\n",
    "The flow chart of the model and the parameters are listed below:\n",
    "\n",
    "\\begin{center}\n",
    "\\includegraphics[width=0.7\\textwidth]{cap-1.png}\n",
    "\\end{center}\n",
    "\n",
    "\n",
    "\n",
    "\\begin{tabular}{|c|l|l|} \\hline\n",
    "Symbol & Interpretation & Method \\\\ \\hline\n",
    "$t_0$ &Time at which the epidemic started &fitted \\\\ \\hline\n",
    "$S_0$ &Number of susceptible at time $t_0$ & {\\bf fixed} \\\\ \\hline\n",
    "$I_0$ &Number of asymptomatic infectious at time $t_0$ &fitted \\\\ \\hline\n",
    "$E_0$ &Number of unreported symptomatic infectious at time $t_0$ &fitted \\\\ \\hline\n",
    "$\\tau$ &Transmission rate &fitted \\\\ \\hline\n",
    "$1/\\nu$ & Average time during which asymptomatic infectious are asymptomatic &{\\bf fixed} \\\\ \\hline\n",
    "$f$ & Fraction of asymptomatic infectious that become reported symptomatic infectious &{\\bf fixed} \\\\ \\hline\n",
    "$\\nu_1 = f \\nu$ & Rate at which asymptomatic infectious become reported symptomatic&fitted \\\\ \\hline\n",
    "$\\nu_2 = (1-f) \\nu$ & Rate at which asymptomatic infectious become unreported symptomatic &fitted \\\\ \\hline\n",
    "$1/\\eta$ &Average time symptomatic infectious have symptoms &{\\bf fixed} \\\\ \\hline\n",
    "\\end{tabular}\n",
    "\n",
    "We use a set of reported data to model the epidemic in Tunisia: data from the Tunisian Health Commission for Tunisia. It represents the epidemic transmission in Tunisia. The first case was detected on March 2, 2020.\n"
   ]
  },
  {
   "cell_type": "markdown",
   "metadata": {},
   "source": [
    "The basic reproductive number becomes: $R_0 = \\frac{\\tau S_0}{\\nu} (1+\\frac{(1-f)\\nu}{\\eta})$."
   ]
  },
  {
   "cell_type": "code",
   "execution_count": null,
   "metadata": {
    "collapsed": true
   },
   "outputs": [],
   "source": []
  },
  {
   "cell_type": "code",
   "execution_count": null,
   "metadata": {
    "collapsed": true
   },
   "outputs": [],
   "source": []
  },
  {
   "cell_type": "markdown",
   "metadata": {},
   "source": [
    "### Risk of transmission COVID-19\n",
    "Tang et a. 2020"
   ]
  },
  {
   "cell_type": "code",
   "execution_count": 232,
   "metadata": {
    "collapsed": true
   },
   "outputs": [],
   "source": [
    "N = 5077760\n",
    "S0 = N/100"
   ]
  },
  {
   "cell_type": "code",
   "execution_count": 233,
   "metadata": {},
   "outputs": [],
   "source": [
    "from mpl_toolkits.mplot3d import Axes3D\n",
    "from matplotlib import cbook\n",
    "from matplotlib import cm\n",
    "from matplotlib.colors import LightSource\n",
    "import matplotlib.pyplot as plt\n",
    "import numpy as np"
   ]
  },
  {
   "cell_type": "code",
   "execution_count": 234,
   "metadata": {
    "collapsed": true
   },
   "outputs": [],
   "source": [
    "f = 0.6 #unknown\n",
    "eta = 1/7\n",
    "nu = 1/7"
   ]
  },
  {
   "cell_type": "markdown",
   "metadata": {},
   "source": [
    "CR(t)+1 = chi_1 exp(chi_2*t)\n",
    "I0 = ; U0 = ; R0 = 1"
   ]
  },
  {
   "cell_type": "code",
   "execution_count": 235,
   "metadata": {},
   "outputs": [
    {
     "data": {
      "text/plain": [
       "48"
      ]
     },
     "execution_count": 235,
     "metadata": {},
     "output_type": "execute_result"
    }
   ],
   "source": [
    "Ct = [ct[i]+1 for i in range(n)]\n",
    "len(Ct)"
   ]
  },
  {
   "cell_type": "code",
   "execution_count": 236,
   "metadata": {},
   "outputs": [
    {
     "name": "stdout",
     "output_type": "stream",
     "text": [
      "[1, 1, 8, 17, 20, 20, 27, 31, 31, 32, 36, 39, 39, 40, 45, 45, 48, 49, 53, 60, 60, 61, 72, 85, 92, 99, 109, 118, 120, 134, 162, 195, 218, 238, 255, 262, 264, 264, 268, 269, 291, 309, 375, 375, 403, 419, 440, 450]\n",
      "[datetime.date(2020, 3, 4), datetime.date(2020, 3, 5), datetime.date(2020, 3, 6), datetime.date(2020, 3, 7), datetime.date(2020, 3, 8), datetime.date(2020, 3, 9), datetime.date(2020, 3, 10), datetime.date(2020, 3, 11), datetime.date(2020, 3, 12), datetime.date(2020, 3, 13), datetime.date(2020, 3, 14), datetime.date(2020, 3, 15), datetime.date(2020, 3, 16), datetime.date(2020, 3, 17), datetime.date(2020, 3, 18), datetime.date(2020, 3, 19), datetime.date(2020, 3, 20), datetime.date(2020, 3, 21), datetime.date(2020, 3, 22), datetime.date(2020, 3, 23), datetime.date(2020, 3, 24), datetime.date(2020, 3, 25), datetime.date(2020, 3, 26), datetime.date(2020, 3, 27), datetime.date(2020, 3, 28), datetime.date(2020, 3, 29), datetime.date(2020, 3, 30), datetime.date(2020, 3, 31), datetime.date(2020, 4, 1), datetime.date(2020, 4, 2), datetime.date(2020, 4, 3), datetime.date(2020, 4, 4), datetime.date(2020, 4, 5), datetime.date(2020, 4, 6), datetime.date(2020, 4, 7), datetime.date(2020, 4, 8), datetime.date(2020, 4, 9), datetime.date(2020, 4, 10), datetime.date(2020, 4, 11), datetime.date(2020, 4, 12), datetime.date(2020, 4, 13), datetime.date(2020, 4, 14), datetime.date(2020, 4, 15), datetime.date(2020, 4, 16), datetime.date(2020, 4, 17), datetime.date(2020, 4, 18), datetime.date(2020, 4, 19), datetime.date(2020, 4, 20), datetime.date(2020, 4, 21)]\n"
     ]
    },
    {
     "data": {
      "text/plain": [
       "(None, 48, 48, None)"
      ]
     },
     "execution_count": 236,
     "metadata": {},
     "output_type": "execute_result"
    }
   ],
   "source": [
    "print(Ct), len(Ct), n, print(dates_palestine[:n+1])"
   ]
  },
  {
   "cell_type": "code",
   "execution_count": 237,
   "metadata": {},
   "outputs": [
    {
     "name": "stdout",
     "output_type": "stream",
     "text": [
      "14 14\n",
      "[ 2.51951827e+01  1.63544512e-01 -1.93859835e+02]\n",
      "a = 25.19518268743067 , b = 0.1635445118091188, c =-193.85983516829785 \n",
      "[[ 3.48302441e+02 -9.36709030e-01  4.89128497e+02]\n",
      " [-9.36709030e-01  2.54902834e-03 -1.29140895e+00]\n",
      " [ 4.89128497e+02 -1.29140895e+00  7.26992790e+02]]\n"
     ]
    },
    {
     "data": {
      "image/png": "[encoded data removed]",
      "text/plain": [
       "<Figure size 432x288 with 1 Axes>"
      ]
     },
     "metadata": {},
     "output_type": "display_data"
    }
   ],
   "source": [
    "import matplotlib.pyplot as plt\n",
    "from scipy.optimize import curve_fit\n",
    "\n",
    "import numpy as np\n",
    "import sympy as sym\n",
    "n = 45\n",
    "mm =  31\n",
    "\n",
    "#x = np.linspace(0, 3, 50)\n",
    "x = np.arange(0,n-mm,1)\n",
    "#y = np.exp(x)\n",
    "y = np.array(ct[mm:n])\n",
    "print(len(x), len(y))\n",
    "plt.plot(x, y, 'ro',label=\"Original Data\")\n",
    "  \n",
    "x = np.array(x, dtype=float) #transform your data in a numpy array of floats \n",
    "y = np.array(y, dtype=float) #so the curve_fit can work\n",
    "\n",
    "\n",
    "def func(x, a, b, c):\n",
    "    return (a * np.exp(b * x) - c)\n",
    "\n",
    "popt, pcov = curve_fit(func, x, y)\n",
    "print(popt)\n",
    "\n",
    "print( \"a = %s , b = %s, c =%s \" % (popt[0], popt[1], popt[2]))\n",
    "print(pcov)\n",
    "\n",
    "plt.plot(x, func(x, *popt), label=\"Fitted Curve\") #same as line above \\/\n",
    "#plt.plot(x, popt[0]*x**3 + popt[1]*x**2 + popt[2]*x + popt[3], label=\"Fitted Curve\") \n",
    "\n",
    "plt.legend(loc='upper left')\n",
    "plt.show()"
   ]
  },
  {
   "cell_type": "code",
   "execution_count": 238,
   "metadata": {},
   "outputs": [
    {
     "data": {
      "text/plain": [
       "(25.19518268743067, 0.1635445118091188, -193.85983516829785)"
      ]
     },
     "execution_count": 238,
     "metadata": {},
     "output_type": "execute_result"
    }
   ],
   "source": [
    "#!pip install sympy\n",
    "chi1, chi2, chi3 = popt\n",
    "chi1, chi2, chi3"
   ]
  },
  {
   "cell_type": "code",
   "execution_count": 239,
   "metadata": {},
   "outputs": [],
   "source": [
    "#t0 = (np.log(chi3)-np.log(chi1))/chi2\n",
    "#t0"
   ]
  },
  {
   "cell_type": "code",
   "execution_count": 240,
   "metadata": {},
   "outputs": [
    {
     "name": "stdout",
     "output_type": "stream",
     "text": [
      "8 8\n",
      "[3.09111960e+02 5.85548667e-02]\n",
      "a = 309.1119601281908 , b = 0.05855486669819682\n"
     ]
    },
    {
     "data": {
      "image/png": "[encoded data removed]",
      "text/plain": [
       "<Figure size 432x288 with 1 Axes>"
      ]
     },
     "metadata": {},
     "output_type": "display_data"
    }
   ],
   "source": [
    "#x = np.linspace(0, 3, 50)\n",
    "mm = 40\n",
    "n = 48\n",
    "#x = np.linspace(0,1,n)\n",
    "x = np.arange(0,n-mm,1)\n",
    "#x = x[mm:n]\n",
    "y = np.array(Ct[mm:n])\n",
    "print(len(x), len(y))\n",
    "plt.plot(x, y, 'ro',label=\"Original Data\")\n",
    "  \n",
    "x = np.array(x, dtype=float) #transform your data in a numpy array of floats \n",
    "y = np.array(y, dtype=float) #so the curve_fit can work\n",
    "\n",
    "\n",
    "def func(x, a, b):\n",
    "    return (a * np.exp(b * x))\n",
    "\n",
    "popt, pcov = curve_fit(func, x, y)\n",
    "print(popt)\n",
    "\n",
    "print( \"a = %s , b = %s\" % (popt[0], popt[1]))\n",
    "\n",
    "\n",
    "plt.plot(x, func(x, *popt), label=\"Fitted Curve\") #same as line above \\/\n",
    "#plt.plot(x, popt[0]*x**3 + popt[1]*x**2 + popt[2]*x + popt[3], label=\"Fitted Curve\") \n",
    "\n",
    "plt.legend(loc='upper left')\n",
    "plt.show()"
   ]
  },
  {
   "cell_type": "code",
   "execution_count": 241,
   "metadata": {
    "collapsed": true
   },
   "outputs": [],
   "source": [
    "chi1, chi2 = popt"
   ]
  },
  {
   "cell_type": "code",
   "execution_count": 242,
   "metadata": {},
   "outputs": [],
   "source": [
    "#chi2 = chi2/50"
   ]
  },
  {
   "cell_type": "code",
   "execution_count": 243,
   "metadata": {},
   "outputs": [
    {
     "data": {
      "image/png": "[encoded data removed]",
      "text/plain": [
       "<Figure size 432x288 with 1 Axes>"
      ]
     },
     "metadata": {},
     "output_type": "display_data"
    }
   ],
   "source": [
    "def fu(t):\n",
    "    return(chi1*np.exp(chi2*(t))-1)\n",
    "fu(50)\n",
    "\n",
    "\n",
    "plt.plot(x, fu(x))\n",
    "#plt.plot(x, U(x))\n",
    "plt.plot(x, ct[mm:n], \"*\")\n",
    "plt.show()"
   ]
  },
  {
   "cell_type": "code",
   "execution_count": 244,
   "metadata": {},
   "outputs": [
    {
     "data": {
      "text/plain": [
       "(-58.596640079029605, 0.05855486669819682)"
      ]
     },
     "execution_count": 244,
     "metadata": {},
     "output_type": "execute_result"
    }
   ],
   "source": [
    "t0 = (-np.log(chi1/10))/chi2\n",
    "t0, chi2"
   ]
  },
  {
   "cell_type": "code",
   "execution_count": 245,
   "metadata": {},
   "outputs": [],
   "source": [
    "#def func(t):\n",
    "#    return(np.log(chi1/10*np.exp(chi2*t)-1))\n",
    "def func(t):\n",
    "    return(chi1/10*np.exp(chi2*t)-1)\n"
   ]
  },
  {
   "cell_type": "code",
   "execution_count": 246,
   "metadata": {},
   "outputs": [
    {
     "data": {
      "text/plain": [
       "(30.91119601281908, 0.05855486669819682)"
      ]
     },
     "execution_count": 246,
     "metadata": {},
     "output_type": "execute_result"
    }
   ],
   "source": [
    "f = 0.6 #unknown\n",
    "eta = 1/7\n",
    "nu = 1/7\n",
    "#def func(t):\n",
    "#    return((chi1/10*np.exp(chi2*(t))-1))\n",
    "func(1), func(2), func(3)\n",
    "#x = np.array(np.linspace(0,3), dtype=float)\n",
    "\n",
    "#plt.plot(x, func(x))\n",
    "#plt.show()\n",
    "chi1/10, chi2"
   ]
  },
  {
   "cell_type": "code",
   "execution_count": 247,
   "metadata": {},
   "outputs": [
    {
     "data": {
      "text/plain": [
       "[datetime.date(2020, 4, 15),\n",
       " datetime.date(2020, 4, 16),\n",
       " datetime.date(2020, 4, 17),\n",
       " datetime.date(2020, 4, 18),\n",
       " datetime.date(2020, 4, 19),\n",
       " datetime.date(2020, 4, 20),\n",
       " datetime.date(2020, 4, 21),\n",
       " datetime.date(2020, 4, 22)]"
      ]
     },
     "execution_count": 247,
     "metadata": {},
     "output_type": "execute_result"
    }
   ],
   "source": [
    "dates[mm+3:n+3]"
   ]
  },
  {
   "cell_type": "code",
   "execution_count": 248,
   "metadata": {},
   "outputs": [
    {
     "data": {
      "image/png": "[encoded data removed]",
      "text/plain": [
       "<Figure size 432x288 with 1 Axes>"
      ]
     },
     "metadata": {},
     "output_type": "display_data"
    }
   ],
   "source": [
    "xx = np.arange(100)\n",
    "plt.plot(xx, 30.91*np.exp(0.06*xx)-1)\n",
    "plt.show()"
   ]
  },
  {
   "cell_type": "code",
   "execution_count": 294,
   "metadata": {},
   "outputs": [
    {
     "data": {
      "image/png": "[encoded data removed]",
      "text/plain": [
       "<Figure size 432x288 with 1 Axes>"
      ]
     },
     "metadata": {},
     "output_type": "display_data"
    }
   ],
   "source": [
    "#print([func(i) for i in range(10000)])\n",
    "plt.plot(ct, 'o', label=\"Reported cases\")\n",
    "x = np.arange(90)\n",
    "plt.plot(x,func(x), label=\"Simulated CR(t)=30.91*exp(0.06*t)-1\")\n",
    "plt.legend()\n",
    "plt.show()"
   ]
  },
  {
   "cell_type": "code",
   "execution_count": 329,
   "metadata": {},
   "outputs": [
    {
     "data": {
      "image/png": "[encoded data removed]",
      "text/plain": [
       "<Figure size 432x288 with 1 Axes>"
      ]
     },
     "metadata": {},
     "output_type": "display_data"
    }
   ],
   "source": [
    "tx1 = 0.01\n",
    "tx2 = 0.05\n",
    "cx1 = tx1*chi1/10*np.exp(chi2*x)-1\n",
    "cx2 = tx2*chi1/10*np.exp(chi2*x)-1\n",
    "cx3 = 0.07*chi1/10*np.exp(chi2*x)-1\n",
    "plt.plot(ct, '-', label=\"Reported infected cases\")\n",
    "plt.plot(mt, '+', label='Reported death cases')\n",
    "x = np.arange(70)\n",
    "#plt.plot(x,func(x), label=\"Simulated CR(t)=30.91*exp(0.06*t)-1\")\n",
    "plt.plot(x,cx1, label=\"Simulated of death cases, T=0.01\")\n",
    "plt.plot(x,cx2, label=\"Simulated of death cases, T=0.05\")\n",
    "plt.plot(x,cx3, label=\"Simulated of death cases, T=0.2\")\n",
    "\n",
    "plt.legend()\n",
    "plt.show()"
   ]
  },
  {
   "cell_type": "code",
   "execution_count": 343,
   "metadata": {},
   "outputs": [
    {
     "data": {
      "text/plain": [
       "(0.75, 2.9970414201183435)"
      ]
     },
     "execution_count": 343,
     "metadata": {},
     "output_type": "execute_result"
    }
   ],
   "source": [
    "507/3.38*0.005, 2026/3.38*0.005"
   ]
  },
  {
   "cell_type": "code",
   "execution_count": 344,
   "metadata": {},
   "outputs": [
    {
     "data": {
      "text/plain": [
       "(7.5, 29.970414201183434)"
      ]
     },
     "execution_count": 344,
     "metadata": {},
     "output_type": "execute_result"
    }
   ],
   "source": [
    "507/3.38*0.05, 2026/3.38*0.05"
   ]
  },
  {
   "cell_type": "code",
   "execution_count": null,
   "metadata": {
    "collapsed": true
   },
   "outputs": [],
   "source": []
  },
  {
   "cell_type": "code",
   "execution_count": 328,
   "metadata": {},
   "outputs": [
    {
     "data": {
      "text/plain": [
       "(4.137578524681856, 24.687892623409283, 34.963049672773)"
      ]
     },
     "execution_count": 328,
     "metadata": {},
     "output_type": "execute_result"
    }
   ],
   "source": [
    "cx1[n], cx2[n], cx3[n]"
   ]
  },
  {
   "cell_type": "code",
   "execution_count": 310,
   "metadata": {},
   "outputs": [
    {
     "data": {
      "text/plain": [
       "array([ 0.5455598 ,  0.63876194,  0.73758446,  0.8423663 ,  0.9534668 ,\n",
       "        1.07126702,  1.19617097,  1.32860702,  1.46902938,  1.61791965,\n",
       "        1.77578848,  1.94317729,  2.12066018,  2.30884585,  2.50837971,\n",
       "        2.71994609,  2.94427059,  3.18212257,  3.43431777,  3.70172114,\n",
       "        3.98524978,  4.2858761 ,  4.60463113,  4.94260809,  5.30096613,\n",
       "        5.6809343 ,  6.08381574,  6.51099221,  6.96392877,  7.44417884,\n",
       "        7.9533895 ,  8.49330718,  9.0657836 ,  9.67278215, 10.31638463,\n",
       "       10.99879838, 11.72236383, 12.48956256, 13.30302581, 14.16554345,\n",
       "       15.08007364, 16.04975288, 17.07790685, 18.16806175, 19.32395643,\n",
       "       20.54955521, 21.84906148, 23.22693208, 24.68789262, 26.23695371,\n",
       "       27.87942807, 29.62094882, 31.46748878, 33.42538094, 35.50134017,\n",
       "       37.70248631, 40.03636851, 42.51099118, 45.13484142, 47.91691812,\n",
       "       50.86676283, 53.9944925 , 57.31083415, 60.82716168, 64.55553486,\n",
       "       68.50874073, 72.70033741, 77.14470061, 81.85707294, 86.85361622])"
      ]
     },
     "execution_count": 310,
     "metadata": {},
     "output_type": "execute_result"
    }
   ],
   "source": [
    "mor(x)"
   ]
  },
  {
   "cell_type": "code",
   "execution_count": 250,
   "metadata": {},
   "outputs": [
    {
     "data": {
      "text/plain": [
       "(31.775238794217863, 33.75168924465165, 35.84732590170764, 29.91119601281908)"
      ]
     },
     "execution_count": 250,
     "metadata": {},
     "output_type": "execute_result"
    }
   ],
   "source": [
    "func(1), func(2), func(3), func(0)"
   ]
  },
  {
   "cell_type": "code",
   "execution_count": 251,
   "metadata": {},
   "outputs": [
    {
     "name": "stdout",
     "output_type": "stream",
     "text": [
      "1.0\n"
     ]
    }
   ],
   "source": [
    "I0 = round(chi2/(f*nu),0)\n",
    "print(I0)"
   ]
  },
  {
   "cell_type": "code",
   "execution_count": 252,
   "metadata": {},
   "outputs": [
    {
     "name": "stdout",
     "output_type": "stream",
     "text": [
      "3.089910059642044e-06\n"
     ]
    }
   ],
   "source": [
    "tau = (chi2+nu)/S0*(eta+chi2)/((1-f)*nu+eta+chi2)\n",
    "print(tau)"
   ]
  },
  {
   "cell_type": "code",
   "execution_count": 253,
   "metadata": {},
   "outputs": [
    {
     "data": {
      "text/plain": [
       "0.0"
      ]
     },
     "execution_count": 253,
     "metadata": {},
     "output_type": "execute_result"
    }
   ],
   "source": [
    "U0 = round((1-f)*nu/(eta+chi2)*I0, 0)\n",
    "round(U0)"
   ]
  },
  {
   "cell_type": "code",
   "execution_count": 254,
   "metadata": {},
   "outputs": [
    {
     "name": "stdout",
     "output_type": "stream",
     "text": [
      "1.5376025270359022\n"
     ]
    }
   ],
   "source": [
    "R0 = (chi2+nu)/nu*(eta+chi2)/((1-f)*nu+eta+chi2)*(1+(((1-f)*nu)/eta))\n",
    "print(R0)\n",
    "#tau = R0 * nu /S0 * eta / (1+((1-f)*nu))\n",
    "#tau"
   ]
  },
  {
   "cell_type": "code",
   "execution_count": 255,
   "metadata": {},
   "outputs": [
    {
     "name": "stdout",
     "output_type": "stream",
     "text": [
      "5.845775788511973e-07\n"
     ]
    }
   ],
   "source": [
    "tau = R0 * nu /S0 * eta / (1+((1-f)*nu))\n",
    "print(tau)"
   ]
  },
  {
   "cell_type": "code",
   "execution_count": 256,
   "metadata": {},
   "outputs": [],
   "source": [
    "n = len(ct)\n",
    "N = 5077760\n",
    "f, eta, nu = [0.6, 1/7, 1/7]\n",
    "tau = 4.55*10**(-6)\n",
    "def SEIR(inivalue, _):\n",
    "    Y = np.zeros(4)\n",
    "    X = inivalue\n",
    "    # dS/dt\n",
    "    Y[0] = - tau * X[0] * (X[1] + X[2])\n",
    "    # dE/dt\n",
    "    Y[1] = (1 - f) * nu * X[2] - eta * X[1]\n",
    "    # dI/dt\n",
    "    Y[2] = tau * X[0] * (X[1] + X[2]) - nu * X[2]\n",
    "    # dR/dt\n",
    "    Y[3] = f * nu * X[2] - eta * X[3]\n",
    "    return Y\n",
    "RES = spi.odeint(SEIR, (S0,U0,I0,1), Time)"
   ]
  },
  {
   "cell_type": "code",
   "execution_count": 257,
   "metadata": {},
   "outputs": [
    {
     "data": {
      "image/png": "[encoded data removed]",
      "text/plain": [
       "<Figure size 432x288 with 1 Axes>"
      ]
     },
     "metadata": {},
     "output_type": "display_data"
    },
    {
     "name": "stdout",
     "output_type": "stream",
     "text": [
      "0.6 0.14285714285714285 0.14285714285714285 4.55e-06 8095.0 80 2020-05-22\n"
     ]
    }
   ],
   "source": [
    "T = 170\n",
    "Time = np.arange(0, T + 1)\n",
    "\n",
    "# create dates\n",
    "#start_day_palestine = date(2020, 2, 15)\n",
    "start_day_palestine = date(2020, 3, 3)\n",
    "dates_palestine = [start_day_palestine + datetime.timedelta(i) for i in range(T + 1)]\n",
    "\n",
    "start_day = date(2020, 3, 5)\n",
    "dates = [start_day + datetime.timedelta(i) for i in range(T + 1)]\n",
    "\n",
    "INI = (S0,U0,I0,1)\n",
    "# solve the system of differential equations\n",
    "RES = spi.odeint(SEIR, INI, Time)\n",
    "#n = len(ct_red)\n",
    "n = len(ct)\n",
    "dt = [start_day_palestine + datetime.timedelta(i) for i in range(n)]\n",
    "\n",
    "#plt.plot(dates_palestine, RES[:,0],color = 'darkblue',label = 'Susceptible')\n",
    "plt.plot(dates_palestine, RES[:,1],color = 'orange',label = 'Unreported')\n",
    "plt.plot(dates_palestine, RES[:,2],color = 'red',label = 'Infected')\n",
    "plt.plot(dates_palestine, RES[:,3],color = 'green',label = 'Removed')\n",
    "#plt.plot(dt, ct_red, color = 'black', label = 'Reported cases')\n",
    "plt.plot(dt, ct, \"+k\", color = 'black', label = 'Reported cases')\n",
    "\n",
    "#plt.title('Data from Ines Tej')\n",
    "plt.suptitle('SEIR Forecast: Palestine Trending')\n",
    "plt.legend()\n",
    "plt.xlabel('Date')\n",
    "plt.ylabel('Proportion')\n",
    "plt.xticks(rotation=90)\n",
    "plt.grid()\n",
    "plt.show()\n",
    "\n",
    "print(f, eta, nu, tau, round(max(RES[:,2]), 0), np.argmax(RES[:,2]), start_day_palestine + datetime.timedelta(int(np.argmax(RES[:,2]))))\n",
    "# plt.savefig('palestine.png')"
   ]
  },
  {
   "cell_type": "code",
   "execution_count": 258,
   "metadata": {},
   "outputs": [
    {
     "data": {
      "text/plain": [
       "1.5376025270359022"
      ]
     },
     "execution_count": 258,
     "metadata": {},
     "output_type": "execute_result"
    }
   ],
   "source": [
    "R0"
   ]
  },
  {
   "cell_type": "code",
   "execution_count": 261,
   "metadata": {},
   "outputs": [
    {
     "data": {
      "text/plain": [
       "2919.08339469174"
      ]
     },
     "execution_count": 261,
     "metadata": {},
     "output_type": "execute_result"
    }
   ],
   "source": [
    "max(RES[:,1])"
   ]
  },
  {
   "cell_type": "code",
   "execution_count": 112,
   "metadata": {},
   "outputs": [
    {
     "name": "stdout",
     "output_type": "stream",
     "text": [
      "171\n"
     ]
    },
    {
     "data": {
      "text/plain": [
       "array([4.83515259e-06])"
      ]
     },
     "execution_count": 112,
     "metadata": {},
     "output_type": "execute_result"
    }
   ],
   "source": [
    "print(len(Time))\n",
    "def sumsq(p):\n",
    "    tau = p\n",
    "    def SEIR(inivalue, _):\n",
    "        Y = np.zeros(4)\n",
    "        X = inivalue\n",
    "        # dS/dt\n",
    "        Y[0] = - tau * X[0] * (X[1] + X[2])\n",
    "        # dE/dt\n",
    "        Y[1] = (1 - f) * nu * X[2] - eta * X[1]\n",
    "        # dI/dt\n",
    "        Y[2] = tau * X[0] * (X[1] + X[2]) - nu * X[2]\n",
    "        # dR/dt\n",
    "        Y[3] = f * nu * X[2] - eta * X[3]\n",
    "        return Y\n",
    "    \n",
    "    RES = spi.odeint(SEIR, (S0,U0,I0,1), Time[:n])\n",
    "    #print(RES)\n",
    "    return(sum(RES[:,2] - ct)**2)\n",
    "\n",
    "msol = minimize(sumsq, [tau], method='Nelder-Mead')\n",
    "msol.x"
   ]
  },
  {
   "cell_type": "code",
   "execution_count": 113,
   "metadata": {},
   "outputs": [
    {
     "name": "stdout",
     "output_type": "stream",
     "text": [
      "211\n"
     ]
    },
    {
     "data": {
      "image/png": "[encoded data removed]",
      "text/plain": [
       "<Figure size 432x288 with 1 Axes>"
      ]
     },
     "metadata": {},
     "output_type": "display_data"
    }
   ],
   "source": [
    "tau = msol.x\n",
    "def SEIR(inivalue, _):\n",
    "    Y = np.zeros(4)\n",
    "    X = inivalue\n",
    "    # dS/dt\n",
    "    Y[0] = - tau * X[0] * (X[1] + X[2])\n",
    "    # dE/dt\n",
    "    Y[1] = (1 - f) * nu * X[2] - eta * X[1]\n",
    "    # dI/dt\n",
    "    Y[2] = tau * X[0] * (X[1] + X[2]) - nu * X[2]\n",
    "    # dR/dt\n",
    "    Y[3] = f * nu * X[2] - eta * X[3]\n",
    "    return Y\n",
    "\n",
    "T = 210\n",
    "Time = np.arange(0, T + 1)\n",
    "#n = len(ct_red)+1\n",
    "#print(n)\n",
    "# create dates\n",
    "#start_day_palestine = date(2020, 3, 24)\n",
    "\n",
    "start_day_palestine = date(2020, 3, 5)\n",
    "dates_palestine = [start_day_palestine + datetime.timedelta(n) for n in range(T + 1)]\n",
    "\n",
    "start_day = date(2020, 3, 3)\n",
    "dates = [start_day + datetime.timedelta(n) for n in range(T + 1)]\n",
    "\n",
    "INI = (S0,U0,I0,1)\n",
    "# solve the system of differential equations\n",
    "RES = spi.odeint(SEIR, INI, Time)\n",
    "\n",
    "dt = [start_day_palestine + datetime.timedelta(i) for i in range(n)]\n",
    "print(len(dates))\n",
    "#plt.plot(dates_palestine, RES[:,0],color = 'darkblue',label = 'Susceptible')\n",
    "plt.plot(dates_palestine, RES[:,1],color = 'orange',label = 'Unreported')\n",
    "plt.plot(dates_palestine, RES[:,2],color = 'red',label = 'Infected')\n",
    "plt.plot(dates_palestine, RES[:,3],color = 'green',label = 'Removed')\n",
    "#plt.plot(dt, ct_red, color = 'black', label = 'Reported cases')\n",
    "plt.plot(dt, ct, \"+k\", color = 'black', label = 'Reported cases')\n",
    "\n",
    "#plt.title('Data from Ines Tej')\n",
    "plt.suptitle('SEIR Forecast: Palestine Trending')\n",
    "plt.legend()\n",
    "plt.xlabel('Date')\n",
    "plt.ylabel('Proportion')\n",
    "plt.xticks(rotation=90)\n",
    "plt.grid()\n",
    "plt.show()\n",
    "\n",
    "#print(f, eta, nu, tau, round(max(RES[:,2]), 0), np.argmax(RES[:,2]), start_day_palestine + datetime.timedelta(int(np.argmax(RES[:,2]))))\n",
    "# plt.savefig('palestine.png')"
   ]
  },
  {
   "cell_type": "code",
   "execution_count": 187,
   "metadata": {},
   "outputs": [],
   "source": [
    "\n",
    "eta = 1/7\n",
    "f = 0.6\n",
    "nu = 1/7\n",
    "tau = 4.55 * 10**(-6)\n",
    "def sumsq(p):\n",
    "    f, nu, eta, tau = p\n",
    "    def SEIR(inivalue, _):\n",
    "        Y = np.zeros(4)\n",
    "        X = inivalue\n",
    "        # dS/dt\n",
    "        Y[0] = - tau * X[0] * (X[1] + X[2])\n",
    "        # dE/dt\n",
    "        Y[1] = (1 - f) * nu * X[2] - eta * X[1]\n",
    "        # dI/dt\n",
    "        Y[2] = tau * X[0] * (X[1] + X[2]) - nu * X[2]\n",
    "        # dR/dt\n",
    "        Y[3] = f * nu * X[2] - eta * X[3]\n",
    "        return Y\n",
    "    \n",
    "    RES = spi.odeint(SEIR, (S0,U0,I0,1), Time[:n])\n",
    "    #print(RES)\n",
    "    return(sum(RES[:,2] - ct)**2)"
   ]
  },
  {
   "cell_type": "code",
   "execution_count": 348,
   "metadata": {},
   "outputs": [
    {
     "data": {
      "text/plain": [
       "(array([0.1, 0.2, 0.3, 0.4, 0.5, 0.6, 0.7, 0.8]), array([8, 7, 6, 5, 4, 3, 2]))"
      ]
     },
     "execution_count": 348,
     "metadata": {},
     "output_type": "execute_result"
    }
   ],
   "source": [
    "eta = 1/7\n",
    "f = 0.6\n",
    "nu = 1/7\n",
    "tau = 4.55 * 10**(-6)\n",
    "S0 = N/100\n",
    "L = []\n",
    "RR = []\n",
    "\n",
    "for j in np.arange(2,9,1):\n",
    "    for i in np.arange(0.1,0.9,0.1):\n",
    "        #print(i,j)\n",
    "        f = i\n",
    "        nu = 1/j\n",
    "        r0 = round(tau * S0 / nu * (1+((1-f)*nu/eta)), 2)\n",
    "        RR += [r0]\n",
    "        L += [[i, j, r0]]\n",
    "np.arange(0.1,0.9,0.1), np.arange(8,1,-1)"
   ]
  },
  {
   "cell_type": "code",
   "execution_count": 349,
   "metadata": {},
   "outputs": [
    {
     "name": "stderr",
     "output_type": "stream",
     "text": [
      "/usr/local/Cellar/ipython/6.2.1_1/libexec/vendor/lib/python3.6/site-packages/ipykernel_launcher.py:29: FutureWarning:\n",
      "\n",
      "`rcond` parameter will change to the default of machine precision times ``max(M, N)`` where M and N are the input matrix dimensions.\n",
      "To use the future default and silence this warning we advise to pass `rcond=None`, to keep using the old, explicitly pass `rcond=-1`.\n",
      "\n"
     ]
    },
    {
     "data": {
      "image/png": "[encoded data removed]",
      "text/plain": [
       "<Figure size 432x288 with 1 Axes>"
      ]
     },
     "metadata": {},
     "output_type": "display_data"
    }
   ],
   "source": [
    "import itertools\n",
    "import numpy as np\n",
    "import matplotlib.pyplot as plt\n",
    "from mpl_toolkits.mplot3d import Axes3D\n",
    "# from matplotlib import cbook\n",
    "from matplotlib import cm\n",
    "from matplotlib.colors import LightSource\n",
    "\n",
    "\n",
    "def poly_matrix(x, y, order=2):\n",
    "    \"\"\" generate Matrix use with lstsq \"\"\"\n",
    "    ncols = (order + 1)**2\n",
    "    G = np.zeros((x.size, ncols))\n",
    "    ij = itertools.product(range(order+1), range(order+1))\n",
    "    for k, (i, j) in enumerate(ij):\n",
    "        G[:, k] = x**i * y**j\n",
    "    return G\n",
    "\n",
    "\n",
    "points = np.array(L)\n",
    "\n",
    "ordr = 2  # order of polynomial\n",
    "x, y, z = points.T\n",
    "x, y = x - x[0], y - y[0]  # this improves accuracy\n",
    "\n",
    "# make Matrix:\n",
    "G = poly_matrix(x, y, ordr)\n",
    "# Solve for np.dot(G, m) = z:\n",
    "m = np.linalg.lstsq(G, z)[0]\n",
    "\n",
    "\n",
    "# Evaluate it on a grid...\n",
    "nx, ny = 30, 30\n",
    "xx, yy = np.meshgrid(np.linspace(x.min(), x.max(), nx),\n",
    "                     np.linspace(y.min(), y.max(), ny))\n",
    "GG = poly_matrix(xx.ravel(), yy.ravel(), ordr)\n",
    "zz = np.reshape(np.dot(GG, m), xx.shape)\n",
    "\n",
    "# Plotting (see http://matplotlib.org/examples/mplot3d/custom_shaded_3d_surface.html):\n",
    "fg, ax = plt.subplots(subplot_kw=dict(projection='3d'))\n",
    "ls = LightSource(270, 45)\n",
    "rgb = ls.shade(zz, cmap=cm.gist_earth, vert_exag=0.1, blend_mode='soft')\n",
    "surf = ax.plot_surface(xx, yy, zz, rstride=1, cstride=1, facecolors=rgb,\n",
    "                       linewidth=0, antialiased=False, shade=False)\n",
    "\n",
    "#ax.plot3D(x, y, z, \"o\")\n",
    "ax.set_xlabel('$f$', fontsize=10, rotation = 0)\n",
    "ax.set_ylabel('$1/v$', fontsize=10, rotation = 0)\n",
    "ax.set_zlabel('$R_0$', fontsize=10, rotation = 0)\n",
    "\n",
    "fg.canvas.draw()\n",
    "plt.show()"
   ]
  },
  {
   "cell_type": "code",
   "execution_count": 350,
   "metadata": {},
   "outputs": [
    {
     "data": {
      "text/plain": [
       "(0.79, 3.3, 2.045)"
      ]
     },
     "execution_count": 350,
     "metadata": {},
     "output_type": "execute_result"
    }
   ],
   "source": [
    "min(RR), max(RR), statistics.median(RR)"
   ]
  },
  {
   "cell_type": "code",
   "execution_count": 351,
   "metadata": {},
   "outputs": [
    {
     "name": "stdout",
     "output_type": "stream",
     "text": [
      "[1.92, 1.76, 1.59, 1.43, 1.27, 1.11, 0.95, 0.79, 2.15, 1.99, 1.83, 1.66, 1.5, 1.34, 1.18, 1.02, 2.38, 2.22, 2.06, 1.89, 1.73, 1.57, 1.41, 1.25, 2.61, 2.45, 2.29, 2.13, 1.96, 1.8, 1.64, 1.48, 2.84, 2.68, 2.52, 2.36, 2.19, 2.03, 1.87, 1.71, 3.07, 2.91, 2.75, 2.59, 2.43, 2.26, 2.1, 1.94, 3.3, 3.14, 2.98, 2.82, 2.66, 2.5, 2.33, 2.17]\n"
     ]
    }
   ],
   "source": [
    "print(RR)"
   ]
  },
  {
   "cell_type": "code",
   "execution_count": 354,
   "metadata": {},
   "outputs": [
    {
     "data": {
      "text/plain": [
       "([0.7000000000000001, 2, 0.95], [0.8, 2, 0.79])"
      ]
     },
     "execution_count": 354,
     "metadata": {},
     "output_type": "execute_result"
    }
   ],
   "source": [
    "L[6], L[7]"
   ]
  },
  {
   "cell_type": "code",
   "execution_count": 352,
   "metadata": {},
   "outputs": [
    {
     "name": "stdout",
     "output_type": "stream",
     "text": [
      "[[0.1, 2, 1.92], [0.2, 2, 1.76], [0.30000000000000004, 2, 1.59], [0.4, 2, 1.43], [0.5, 2, 1.27], [0.6, 2, 1.11], [0.7000000000000001, 2, 0.95], [0.8, 2, 0.79], [0.1, 3, 2.15], [0.2, 3, 1.99], [0.30000000000000004, 3, 1.83], [0.4, 3, 1.66], [0.5, 3, 1.5], [0.6, 3, 1.34], [0.7000000000000001, 3, 1.18], [0.8, 3, 1.02], [0.1, 4, 2.38], [0.2, 4, 2.22], [0.30000000000000004, 4, 2.06], [0.4, 4, 1.89], [0.5, 4, 1.73], [0.6, 4, 1.57], [0.7000000000000001, 4, 1.41], [0.8, 4, 1.25], [0.1, 5, 2.61], [0.2, 5, 2.45], [0.30000000000000004, 5, 2.29], [0.4, 5, 2.13], [0.5, 5, 1.96], [0.6, 5, 1.8], [0.7000000000000001, 5, 1.64], [0.8, 5, 1.48], [0.1, 6, 2.84], [0.2, 6, 2.68], [0.30000000000000004, 6, 2.52], [0.4, 6, 2.36], [0.5, 6, 2.19], [0.6, 6, 2.03], [0.7000000000000001, 6, 1.87], [0.8, 6, 1.71], [0.1, 7, 3.07], [0.2, 7, 2.91], [0.30000000000000004, 7, 2.75], [0.4, 7, 2.59], [0.5, 7, 2.43], [0.6, 7, 2.26], [0.7000000000000001, 7, 2.1], [0.8, 7, 1.94], [0.1, 8, 3.3], [0.2, 8, 3.14], [0.30000000000000004, 8, 2.98], [0.4, 8, 2.82], [0.5, 8, 2.66], [0.6, 8, 2.5], [0.7000000000000001, 8, 2.33], [0.8, 8, 2.17]]\n"
     ]
    }
   ],
   "source": [
    "print(L)"
   ]
  },
  {
   "cell_type": "code",
   "execution_count": null,
   "metadata": {},
   "outputs": [],
   "source": [
    "S0, I0, U0"
   ]
  },
  {
   "cell_type": "code",
   "execution_count": null,
   "metadata": {
    "collapsed": true
   },
   "outputs": [],
   "source": []
  },
  {
   "cell_type": "code",
   "execution_count": null,
   "metadata": {
    "collapsed": true
   },
   "outputs": [],
   "source": []
  },
  {
   "cell_type": "code",
   "execution_count": null,
   "metadata": {
    "collapsed": true
   },
   "outputs": [],
   "source": []
  },
  {
   "cell_type": "code",
   "execution_count": null,
   "metadata": {
    "collapsed": true
   },
   "outputs": [],
   "source": []
  },
  {
   "cell_type": "code",
   "execution_count": null,
   "metadata": {
    "collapsed": true
   },
   "outputs": [],
   "source": []
  },
  {
   "cell_type": "code",
   "execution_count": null,
   "metadata": {
    "collapsed": true
   },
   "outputs": [],
   "source": []
  },
  {
   "cell_type": "code",
   "execution_count": null,
   "metadata": {},
   "outputs": [],
   "source": [
    "S0 = 51.47 * 10**6\n",
    "data = [291, 440, 571, 830, 1287, 1975, 2744, 4515, 5974, 7711]\n",
    "#data = [9, 17, 25, 41, 56, 80, 106, 132, 170]\n",
    "mm = len(data)\n",
    "#data = [data[i]/data[mm-1] for i in range(mm)]\n",
    "\n",
    "x = np.arange(mm)\n",
    "y = np.array(data)\n",
    "print(len(x), len(y))\n",
    "plt.plot(x, y, 'ro',label=\"Original Data\")\n",
    "  \n",
    "x = np.array(x, dtype=float) #transform your data in a numpy array of floats \n",
    "y = np.array(y, dtype=float) #so the curve_fit can work\n",
    "\n",
    "\n",
    "def func(x, a, b, c):\n",
    "    return (a * np.exp(b * x) - c)\n",
    "\n",
    "popt, pcov = curve_fit(func, x, y)\n",
    "#print(popt)\n",
    "\n",
    "print( \"a = %s , b = %s, c = %s\" % (popt[0], popt[1], popt[2]))\n",
    "\n",
    "\n",
    "plt.plot(x, func(x, *popt), label=\"Fitted Curve\") #same as line above \\/\n",
    "#plt.plot(x, popt[0]*x**3 + popt[1]*x**2 + popt[2]*x + popt[3], label=\"Fitted Curve\") \n",
    "\n",
    "plt.legend(loc='upper left')\n",
    "plt.show()\n",
    "chi1, chi2, chi3 = popt\n",
    "#print(chi2)"
   ]
  },
  {
   "cell_type": "code",
   "execution_count": null,
   "metadata": {},
   "outputs": [],
   "source": [
    "t0 = (-np.log(chi1))/chi2\n",
    "print(t0)\n",
    "I0 = round(chi2/(f*nu),0)\n",
    "print(I0)\n",
    "tau = (chi2+nu)/S0*(eta+chi2)/((1-f)*nu+eta+chi2)\n",
    "print(tau)\n",
    "U0 = round((1-f)*nu/(eta+chi2)*I0, 0)\n",
    "round(U0)\n",
    "R0 = (chi2+nu)/nu*(eta+chi2)/((1-f)*nu+eta+chi2)*(1+(((1-f)*nu)/eta))\n",
    "print(R0)"
   ]
  },
  {
   "cell_type": "code",
   "execution_count": null,
   "metadata": {
    "collapsed": true
   },
   "outputs": [],
   "source": [
    "def I(t):\n",
    "    return(I0*np.exp (chi2 *(t - t0)))"
   ]
  },
  {
   "cell_type": "code",
   "execution_count": null,
   "metadata": {
    "collapsed": true
   },
   "outputs": [],
   "source": [
    "def U(t):\n",
    "    return(U0*np.exp (chi2 *(t - t0)))"
   ]
  },
  {
   "cell_type": "code",
   "execution_count": null,
   "metadata": {},
   "outputs": [],
   "source": [
    "def I(t):\n",
    "    return(chi1*np.exp (chi2 *(t))-chi3)\n",
    "\n",
    "#x = np.array(np.linspace(0,1,mm), dtype=float)\n",
    "\n",
    "plt.plot(x, I(x))\n",
    "#plt.plot(x, U(x))\n",
    "plt.plot(x, data)\n",
    "plt.show()"
   ]
  },
  {
   "cell_type": "code",
   "execution_count": null,
   "metadata": {},
   "outputs": [],
   "source": [
    "N"
   ]
  },
  {
   "cell_type": "code",
   "execution_count": null,
   "metadata": {},
   "outputs": [],
   "source": [
    "for i in range(n):\n",
    "    print(dates[i],'&', ct[i],'&', mt[i], '\\\\', '\\hline')"
   ]
  },
  {
   "cell_type": "code",
   "execution_count": null,
   "metadata": {
    "collapsed": true
   },
   "outputs": [],
   "source": [
    "#Jordan\n",
    "N = 10203134\n",
    "ct = [0,0,0,0,0,0,0,0,0,0,0,0,0,0,0,0,0,0,0,0,0,0,0,0,0,0,0,0,0,0,0,0,0,0,0,0,0,0,0,0,0,1,1,1,1,1,1,1,1,1,1,1,1,8,17,34,52,69,85,85,112,127,154,172,212,235,246,259,268,274,278,299,310,323,345,349,353,358,372,372,381,389,391,397,401,402,407,413,417,425,428,435\n",
    "]\n",
    "mt = [31.24,36.51,0,0,0,0,0,0,0,0,0,0,0,0,0,0,0,0,0,0,0,0,0,0,0,0,0,0,0,0,0,0,0,0,0,0,0,0,0,0,0,0,0,0,0,0,0,0,0,0,0,0,0,0,0,0,0,0,0,0,0,0,0,0,0,0,0,1,1,3,5,5,5,5,5,5,5,6,6,6,7,7,7,7,7,7,7,7,7,7,7,7,7,7\n",
    "]\n",
    "n = len(ct)-1\n",
    "print(n)\n",
    "Jc = [ct[i]/N*10**(6) for i in range(n)]\n",
    "Jm = [mt[i]/N*10**(3) for i in range(n)]\n",
    "round(Jm[n-1]/Jc[n-1], 7)"
   ]
  },
  {
   "cell_type": "code",
   "execution_count": null,
   "metadata": {
    "collapsed": true
   },
   "outputs": [],
   "source": [
    "#Israel\n",
    "N = 8655535\n",
    "ct = [0,0,0,0,0,0,0,0,0,0,0,0,0,0,0,0,0,0,0,0,0,0,0,0,0,0,0,0,0,0,1,1,1,1,1,2,3,4,7,10,10,12,15,20,37,43,61,61,75,79,100,126,155,213,218,250,304,427,529,712,883,1071,1238,2369,2693,3035,3619,4247,4695,5358,6092,6857,7428,7851,8430,8904,9248,9404,9968,10408,10743,11145,11586,12046,12501,12758,12982,13265,13491,13713,13942,14498\n",
    "]\n",
    "mt = [0,0,0,0,0,0,0,0,0,0,0,0,0,0,0,0,0,0,0,0,0,0,0,0,0,0,0,0,0,0,0,0,0,0,0,0,0,0,0,0,0,0,0,0,0,0,0,0,0,0,0,0,0,0,0,0,0,0,0,1,1,1,3,5,8,12,12,15,16,20,26,36,40,44,49,57,65,73,86,95,101,103,116,123,130,142,151,164,172,177,184,189\n",
    ",]\n",
    "n = len(ct)-1\n",
    "print(n)\n",
    "Ic = [ct[i]/N*10**(6) for i in range(n)]\n",
    "Im = [mt[i]/N*10**(3) for i in range(n)]\n",
    "round(Im[n-1]/Ic[n-1], 7)"
   ]
  },
  {
   "cell_type": "code",
   "execution_count": null,
   "metadata": {
    "collapsed": true
   },
   "outputs": [],
   "source": [
    "#Iran\n",
    "N = 83992949\n",
    "ct = [0,0,0,0,0,0,0,0,0,0,0,0,0,0,0,0,0,0,0,0,0,0,0,0,0,0,0,0,2,5,18,28,43,61,95,139,245,388,593,978,1501,2336,2922,3513,4747,5823,6566,7161,8042,9000,10075,11364,12729,13938,14991,16169,17361,18407,19644,20610,21638,23049,24811,27017,29406,32332,35408,38309,41495,44605,47593,50468,53183,55743,58226,60500,62589,64586,66220,68192,70029,71686,73303,74877,76389,77995,79494,80868,82211,83505,84802,85996\n",
    "]\n",
    "mt = [0,0,0,0,0,0,0,0,0,0,0,0,0,0,0,0,0,0,0,0,0,0,0,0,0,0,0,0,2,2,4,5,8,12,16,19,26,34,43,54,66,77,92,107,124,145,194,237,291,354,429,514,611,724,853,988,1135,1284,1433,1556,1685,1812,1934,2077,2234,2378,2517,2640,2757,2898,3036,3160,3294,3452,3603,3739,3872,3993,4110,4232,4357,4474,4585,4683,4777,4869,4958,5031,5118,5209,5297,5391\n",
    "]\n",
    "n = len(ct)-1\n",
    "print(n)\n",
    "IRc = [ct[i]/N*10**(6) for i in range(n)]\n",
    "IRm = [mt[i]/N*10**(3) for i in range(n)]\n",
    "round(IRm[n-1]/IRc[n-1], 7)"
   ]
  },
  {
   "cell_type": "code",
   "execution_count": null,
   "metadata": {
    "collapsed": true
   },
   "outputs": [],
   "source": [
    "#Palestine\n",
    "N = 5077760\n",
    "ct = [0,0,0,0,0,0,0,0,0,0,0,0,0,0,0,0,0,0,0,0,0,0,0,0,0,0,0,0,0,0,0,0,0,0,0,0,0,0,0,0,0,0,0,0, 0, 7, 16, 19, 19, 26, 30, 30, 31, 35, 38, 38, 39, 44, 44, 47, 48, 52, 59, 59, 60, 71, 84, 91,\n",
    " 98, 108, 117, 119, 133, 161, 194, 217, 237, 254, 261, 263, 263, 267, 268, 290, 308, 374, 374, 402, 418, 439, 449,466]\n",
    "mt = [0,0,0,0,0,0,0,0,0,0,0,0,0,0,0,0,0,0,0,0,0,0,0,0,0,0,0,0,0,0,0,0,0,0,0,0,0,0,0,0,0,0,0,0, 0, 0, 0, 0, 0, 0, 0, 0, 0, 0, 0, 0, 0, 0, 0, 0, 0, 0, 0, 0, 1, 1, 1, 1, 1, 1, 1, 1, 1, 1, 1, 1, 1, 1, 1,\n",
    " 1, 2, 2, 2, 2, 2, 2, 2, 2, 2, 3, 3,4]\n",
    "n = len(ct)-1\n",
    "print(n)\n",
    "Pc = [ct[i]/N*10**(6) for i in range(n)]\n",
    "Pm = [mt[i]/N*10**(3) for i in range(n)]\n",
    "round(Pm[n-1]/Pc[n-1], 7)"
   ]
  },
  {
   "cell_type": "code",
   "execution_count": null,
   "metadata": {
    "collapsed": true
   },
   "outputs": [],
   "source": [
    "#Egypt\n",
    "N = 102334404\n",
    "ct = [0,0,0,0,0,0,0,0,0,0,0,0,0,0,0,0,0,0,0,0,0,0,0,1,1,1,1,1,1,1,1,1,1,1,1,1,1,1,1,2,2,2,2,3,15,15,49,55,59,60,67,80,109,110,150,196,196,256,285,294,327,366,402,456,495,536,576,609,656,710,779,865,985,1070,1173,1322,1450,1560,1699,1794,1939,2065,2190,2350,2505,2673,2844,3032,3144,3333,3490,3659\n",
    "]\n",
    "mt = [0,0,0,0,0,0,0,0,0,0,0,0,0,0,0,0,0,0,0,0,0,0,0,0,0,0,0,0,0,0,0,0,0,0,0,0,0,0,0,0,0,0,0,0,0,0,1,1,1,1,1,2,2,2,2,4,6,6,8,10,14,19,20,21,24,30,36,40,41,46,52,58,66,71,78,85,94,103,118,135,146,159,164,178,183,196,205,224,239,250,264,276\n",
    "]\n",
    "n = len(ct)-1\n",
    "print(n)\n",
    "Ec = [ct[i]/N*10**(6) for i in range(n)]\n",
    "Em = [mt[i]/N*10**(3) for i in range(n)]\n",
    "round(Em[n-1]/Ec[n-1], 7)"
   ]
  },
  {
   "cell_type": "code",
   "execution_count": null,
   "metadata": {
    "collapsed": true
   },
   "outputs": [],
   "source": [
    "#Lebanon\n",
    "N = 6825445\n",
    "ct = [0,0,0,0,0,0,0,0,0,0,0,0,0,0,0,0,0,0,0,0,0,0,0,0,0,0,0,0,0,0,1,1,1,1,1,2,2,2,4,10,13,13,13,16,22,22,32,32,41,61,61,77,93,110,110,120,133,157,163,187,248,267,318,333,368,391,412,438,446,470,479,494,508,520,527,541,548,576,582,609,619,630,632,641,658,663,668,672,673,677,677,682\n",
    "]\n",
    "mt = [0,0,0,0,0,0,0,0,0,0,0,0,0,0,0,0,0,0,0,0,0,0,0,0,0,0,0,0,0,0,0,0,0,0,0,0,0,0,0,0,0,0,0,0,0,0,0,0,1,3,3,3,3,3,3,3,3,4,4,4,4,4,4,6,6,8,8,10,11,12,14,16,17,17,18,19,19,19,19,20,20,20,20,21,21,21,21,21,21,21,21,22\n",
    "]\n",
    "n = len(ct)-1\n",
    "print(n)\n",
    "Lc = [ct[i]/N*10**(6) for i in range(n)]\n",
    "Lm = [mt[i]/N*10**(3) for i in range(n)]\n",
    "round(Lm[n-1]/Lc[n-1], 7)"
   ]
  },
  {
   "cell_type": "code",
   "execution_count": null,
   "metadata": {
    "collapsed": true
   },
   "outputs": [],
   "source": [
    "#Syria\n",
    "N = 17500658\n",
    "ct = [0,0,0,0,0,0,0,0,0,0,0,0,0,0,0,0,0,0,0,0,0,0,0,0,0,0,0,0,0,0,0,0,0,0,0,0,0,0,0,0,0,0,0,0,0,0,0,0,0,0,0,0,0,0,0,0,0,0,0,0,1,1,1,5,5,5,5,9,10,10,10,16,16,16,19,19,19,19,19,19,25,25,25,29,33,33,38,38,39,39,42,42\n",
    "]\n",
    "mt = [0,0,0,0,0,0,0,0,0,0,0,0,0,0,0,0,0,0,0,0,0,0,0,0,0,0,0,0,0,0,0,0,0,0,0,0,0,0,0,0,0,0,0,0,0,0,0,0,0,0,0,0,0,0,0,0,0,0,0,0,0,0,0,0,0,0,0,1,2,2,2,2,2,2,2,2,2,2,2,2,2,2,2,2,2,2,2,2,3,3,3,3\n",
    "]\n",
    "n = len(ct)-1\n",
    "print(n)\n",
    "Sc = [ct[i]/N*10**(6) for i in range(n)]\n",
    "Sm = [mt[i]/N*10**(3) for i in range(n)]\n",
    "round(Sm[n-1]/Sc[n-1], 7)"
   ]
  },
  {
   "cell_type": "code",
   "execution_count": null,
   "metadata": {
    "collapsed": true
   },
   "outputs": [],
   "source": [
    "#Iraq\n",
    "N = 40222493\n",
    "ct = [0,0,0,0,0,0,0,0,0,0,0,0,0,0,0,0,0,0,0,0,0,0,0,0,0,0,0,0,0,0,0,0,0,1,1,5,7,7,13,19,26,32,35,35,40,54,60,60,71,71,71,101,110,116,124,154,164,192,208,214,233,266,316,346,382,458,506,547,630,694,728,772,820,878,961,1031,1122,1202,1232,1279,1318,1352,1378,1400,1415,1434,1482,1513,1539,1574,1602,1631\n",
    "]\n",
    "mt = [0,0,0,0,0,0,0,0,0,0,0,0,0,0,0,0,0,0,0,0,0,0,0,0,0,0,0,0,0,0,0,0,0,0,0,0,0,0,0,0,0,0,2,2,3,4,6,6,7,7,8,9,10,10,10,11,12,13,17,17,20,23,27,29,36,40,42,42,46,50,52,54,54,56,61,64,65,69,69,70,72,76,78,78,79,80,81,82,82,82,83,83\n",
    "]\n",
    "n = len(ct)-1\n",
    "print(n)\n",
    "Irc = [ct[i]/N*10**(6) for i in range(n)]\n",
    "Irm = [mt[i]/N*10**(3) for i in range(n)]\n",
    "round(Irm[n-1]/Irc[n-1], 7)"
   ]
  },
  {
   "cell_type": "code",
   "execution_count": null,
   "metadata": {
    "collapsed": true
   },
   "outputs": [],
   "source": [
    "#Saudi Arabia\n",
    "N = 34813871\n",
    "ct = [0,0,0,0,0,0,0,0,0,0,0,0,0,0,0,0,0,0,0,0,0,0,0,0,0,0,0,0,0,0,0,0,0,0,0,0,0,0,0,0,1,1,1,5,5,5,11,15,20,21,45,86,103,103,118,171,171,274,344,392,511,562,767,900,1012,1104,1203,1299,1453,1563,1720,1885,2039,2179,2402,2605,2795,2932,3287,3651,4033,4462,4934,5369,5862,6380,7142,8274,9362,10484,11631,12772\n",
    "]\n",
    "mt = [0,0,0,0,0,0,0,0,0,0,0,0,0,0,0,0,0,0,0,0,0,0,0,0,0,0,0,0,0,0,0,0,0,0,0,0,0,0,0,0,0,0,0,0,0,0,0,0,0,0,0,0,0,0,0,0,0,0,0,0,0,0,1,2,3,3,4,8,8,10,16,21,25,29,34,38,41,41,44,47,52,59,65,73,79,83,87,92,97,103,109,114\n",
    "]\n",
    "n = len(ct)-1\n",
    "print(n)\n",
    "Sac = [ct[i]/N*10**(6) for i in range(n)]\n",
    "Sam = [mt[i]/N*10**(3) for i in range(n)]\n",
    "round(Sam[n-1]/Sac[n-1], 7)"
   ]
  },
  {
   "cell_type": "code",
   "execution_count": null,
   "metadata": {
    "collapsed": true
   },
   "outputs": [],
   "source": [
    "#Turkey\n",
    "N = 84339067\n",
    "ct = [0,0,0,0,0,0,0,0,0,0,0,0,0,0,0,0,0,0,0,0,0,0,0,0,0,0,0,0,0,0,0,0,0,0,0,0,0,0,0,0,0,0,0,0,0,0,0,0,0,1,1,5,5,6,18,47,98,192,359,670,1236,1529,1872,2433,3629,5698,7402,9217,10827,13531,15679,18135,20921,23934,27069,30217,34109,38226,42282,47029,52167,56956,61049,65111,69392,74193,78546,82329,86306,90980,95591,98674\n",
    "]\n",
    "mt = [0,0,0,0,0,0,0,0,0,0,0,0,0,0,0,0,0,0,0,0,0,0,0,0,0,0,0,0,0,0,0,0,0,0,0,0,0,0,0,0,0,0,0,0,0,0,0,0,0,0,0,0,0,0,0,1,1,3,4,9,30,37,44,59,75,92,108,131,168,214,277,356,425,501,574,649,725,812,908,1006,1101,1198,1296,1403,1518,1643,1769,1890,2017,2140,2259,2376\n",
    "]\n",
    "n = len(ct)-1\n",
    "print(n)\n",
    "Tc = [ct[i]/N*10**(6) for i in range(n)]\n",
    "Tm = [mt[i]/N*10**(3) for i in range(n)]\n",
    "round(Tm[n-1]/Tc[n-1], 7)"
   ]
  },
  {
   "cell_type": "code",
   "execution_count": null,
   "metadata": {
    "collapsed": true
   },
   "outputs": [],
   "source": [
    "a = 18\n",
    "b = 0\n",
    "register_matplotlib_converters()\n",
    "plt.plot(Pm[a+b:n], Pc[b:n-a], 'o', color = 'green', label = 'Palestine')\n",
    "plt.plot(IRm[a+b:n], IRc[b:n-a], 'o', color = 'blue', label = 'Iran')\n",
    "plt.plot(Jm[a+b:n], Jc[b:n-a], 'o', color = 'orange', label = 'Jordan')\n",
    "plt.plot(Em[a+b:n], Ec[b:n-a], 'o', color = 'black', label = 'Egypt')\n",
    "plt.plot(Im[a+b:n], Ic[b:n-a], 'o', color = 'green', label = 'Israel')\n",
    "plt.plot(Lm[a+b:n], Lc[b:n-a], 'o', color = 'grey', label = 'Lebanon')\n",
    "\n",
    "plt.legend()\n",
    "plt.xlabel('Number of death at t0 (per mile)')\n",
    "plt.ylabel('Number of cases at t0-x (per million)')\n",
    "plt.xticks(rotation=90)\n",
    "plt.grid()\n",
    "plt.show()"
   ]
  },
  {
   "cell_type": "code",
   "execution_count": null,
   "metadata": {
    "collapsed": true
   },
   "outputs": [],
   "source": [
    "xx = np.arange(len(Ic))\n",
    "plt.plot(xx, Ic, '-', color=\"green\", label='Israel') \n",
    "plt.plot(xx, Tc, '-', label=\"Turkey\", color=\"red\") \n",
    "plt.plot(xx, IRc, '-', label=\"Iran\", color=\"black\")\n",
    "plt.plot(xx, Sac, '-', label=\"Saudi Arabia\", color=\"yellow\")\n",
    "\n",
    "\n",
    "plt.legend()\n",
    "plt.ylabel('Number of cases (per million)')\n",
    "plt.xlabel('Time (day)')\n",
    "plt.xticks(rotation=90)\n",
    "plt.grid()\n",
    "plt.show()\n",
    "plt.show()"
   ]
  },
  {
   "cell_type": "code",
   "execution_count": null,
   "metadata": {
    "collapsed": true
   },
   "outputs": [],
   "source": [
    "plt.plot(xx, Pc, '-', label=\"Palestine\", color=\"blue\")\n",
    "plt.plot(xx, Ec, '-', label=\"Egypt\", color=\"grey\")\n",
    "plt.plot(xx, Jc, '-', label=\"Jordan\", color=\"orange\")\n",
    "plt.plot(xx, Sc, '-', label=\"Syria\", color=\"red\")\n",
    "plt.plot(xx, Irc, '-', label=\"Iraq\", color=\"pink\")\n",
    "plt.plot(xx, Lc, '-', label=\"Lebanon\", color=\"black\")\n",
    "\n",
    "plt.legend()\n",
    "plt.ylabel('Number of cases (per million)')\n",
    "plt.xlabel('Time (day)')\n",
    "plt.xticks(rotation=90)\n",
    "plt.grid()\n",
    "plt.show()\n"
   ]
  },
  {
   "cell_type": "code",
   "execution_count": null,
   "metadata": {
    "collapsed": true
   },
   "outputs": [],
   "source": [
    "xx = np.arange(len(Ic))\n",
    "plt.plot(xx, Im, '-', color=\"green\", label='Israel') \n",
    "plt.plot(xx, Tm, '-', label=\"Turkey\", color=\"red\") \n",
    "plt.plot(xx, IRm, '-', label=\"Iran\", color=\"black\")\n",
    "\n",
    "plt.legend()\n",
    "plt.ylabel('Number of death (per miles)')\n",
    "plt.xlabel('Time (day)')\n",
    "plt.xticks(rotation=90)\n",
    "plt.grid()\n",
    "plt.show()\n",
    "plt.show()"
   ]
  },
  {
   "cell_type": "code",
   "execution_count": null,
   "metadata": {
    "collapsed": true
   },
   "outputs": [],
   "source": [
    "plt.plot(xx, Pm, '-', label=\"Palestine\", color=\"blue\")\n",
    "plt.plot(xx, Em, '-', label=\"Egypt\", color=\"grey\")\n",
    "plt.plot(xx, Sm, '-', label=\"Syria\", color=\"red\")\n",
    "plt.plot(xx, Irm, '-', label=\"Iraq\", color=\"pink\")\n",
    "plt.plot(xx, Lm, '-', label=\"Lebanon\", color=\"orange\")\n",
    "plt.plot(xx, Sam, '-', label=\"Saudi Arabia\", color=\"yellow\")\n",
    "plt.plot(xx, Jm, '-', label=\"Jordan\", color=\"darkblue\")\n",
    "\n",
    "\n",
    "plt.legend()\n",
    "plt.ylabel('Number of death (per miles)')\n",
    "plt.xlabel('Time (day)')\n",
    "plt.xticks(rotation=90)\n",
    "plt.grid()\n",
    "plt.show()\n"
   ]
  },
  {
   "cell_type": "code",
   "execution_count": null,
   "metadata": {
    "collapsed": true
   },
   "outputs": [],
   "source": [
    "import numpy as np\n",
    "from matplotlib import pyplot as plt\n",
    "from sklearn import linear_model, datasets\n",
    "from pylab import * \n",
    "\n",
    "\n",
    "y = Im[a+b:n]\n",
    "y = np.array(y)\n",
    "X = Ic[b:n-a]\n",
    "X = np.array(X)\n",
    "m,p = polyfit(X, y, 1) \n",
    "plt.plot(X, y, '+', color=\"green\") \n",
    "plt.plot(X, m*X+p, '-', label=\"Israel\", color=\"green\")\n",
    "\n",
    "y = Tm[a+b:n]\n",
    "y = np.array(y)\n",
    "X = Tc[b:n-a]\n",
    "X = np.array(X)\n",
    "m,p = polyfit(X, y, 1) \n",
    "plt.plot(X, y, '+', color=\"red\") \n",
    "plt.plot(X, m*X+p, '-', label=\"Turkey\", color=\"red\")\n",
    "\n",
    "y = IRm[a+b:n]\n",
    "y = np.array(y)\n",
    "X = IRc[b:n-a]\n",
    "X = np.array(X)\n",
    "m,p = polyfit(X, y, 1) \n",
    "plt.plot(X, y, '+', color=\"black\") \n",
    "plt.plot(X, m*X+p, '-', label=\"Iran\", color=\"black\")\n",
    "\n",
    "plt.legend()\n",
    "plt.ylabel('Number of death at t0 (per mile)')\n",
    "plt.xlabel('Number of cases at t0-18 days (per million)')\n",
    "plt.xticks(rotation=90)\n",
    "plt.grid()\n",
    "plt.show()"
   ]
  },
  {
   "cell_type": "code",
   "execution_count": null,
   "metadata": {
    "collapsed": true
   },
   "outputs": [],
   "source": [
    "\n",
    "y = Pm[a+b:n]\n",
    "y = np.array(y)\n",
    "X = Pc[b:n-a]\n",
    "X = np.array(X)\n",
    "m,p = polyfit(X, y, 1) \n",
    "plt.plot(X, y, '+', color=\"green\") \n",
    "plt.plot(X, m*X+p, '-', label=\"Palestine\", color=\"green\")\n",
    "\n",
    "y = Em[a+b:n]\n",
    "y = np.array(y)\n",
    "X = Ec[b:n-a]\n",
    "X = np.array(X)\n",
    "m,p = polyfit(X, y, 1) \n",
    "plt.plot(X, y, '+', color=\"red\") \n",
    "plt.plot(X, m*X+p, '-', label=\"Egypt\", color=\"red\")\n",
    "\n",
    "\n",
    "y = Jm[a+b:n]\n",
    "y = np.array(y)\n",
    "X = Jc[b:n-a]\n",
    "X = np.array(X)\n",
    "m,p = polyfit(X, y, 1) \n",
    "plt.plot(X, y, '+', color=\"orange\") \n",
    "plt.plot(X, m*X+p, '-', label=\"Jordan\", color=\"orange\")\n",
    "\n",
    "y = Sam[a+b:n]\n",
    "y = np.array(y)\n",
    "X = Sac[b:n-a]\n",
    "X = np.array(X)\n",
    "m,p = polyfit(X, y, 1) \n",
    "plt.plot(X, y, '+', color=\"grey\") \n",
    "plt.plot(X, m*X+p, '-', label=\"Saudi Arabia\", color=\"grey\")\n",
    "\n",
    "\n",
    "plt.legend()\n",
    "plt.ylabel('Number of death at t0 (per mile)')\n",
    "plt.xlabel('Number of cases at t0-18 days (per million)')\n",
    "plt.xticks(rotation=90)\n",
    "plt.grid()\n",
    "plt.show()"
   ]
  },
  {
   "cell_type": "code",
   "execution_count": null,
   "metadata": {
    "collapsed": true
   },
   "outputs": [],
   "source": [
    "y = Lm[a+b:n]\n",
    "y = np.array(y)\n",
    "X = Lc[b:n-a]\n",
    "X = np.array(X)\n",
    "m,p = polyfit(X, y, 1) \n",
    "plt.plot(X, y, '+', color=\"yellow\") \n",
    "plt.plot(X, m*X+p, '-', label=\"Lebanon\", color=\"yellow\")\n",
    "\n",
    "y = Irm[a+b:n]\n",
    "y = np.array(y)\n",
    "X = Irc[b:n-a]\n",
    "X = np.array(X)\n",
    "m,p = polyfit(X, y, 1) \n",
    "plt.plot(X, y, '+', color=\"darkblue\") \n",
    "plt.plot(X, m*X+p, '-', label=\"Iraq\", color=\"darkblue\")\n",
    "\n",
    "plt.legend()\n",
    "plt.ylabel('Number of death at t0 (per mile)')\n",
    "plt.xlabel('Number of cases at t0-18 days (per million)')\n",
    "plt.xticks(rotation=90)\n",
    "plt.grid()\n",
    "plt.show()"
   ]
  },
  {
   "cell_type": "code",
   "execution_count": null,
   "metadata": {
    "collapsed": true
   },
   "outputs": [],
   "source": [
    "y = Sm[a+b:n]\n",
    "y = np.array(y)\n",
    "X = Sc[b:n-a]\n",
    "X = np.array(X)\n",
    "m,p = polyfit(X, y, 1) \n",
    "plt.plot(X, y, '+', color=\"orange\") \n",
    "plt.plot(X, m*X+p, '-', label=\"Syria\", color=\"orange\")\n",
    "\n",
    "plt.legend()\n",
    "plt.ylabel('Number of death at t0 (per mile)')\n",
    "plt.xlabel('Number of cases at t0-18 days (per million)')\n",
    "plt.xticks(rotation=90)\n",
    "plt.grid()\n",
    "plt.show()"
   ]
  },
  {
   "cell_type": "code",
   "execution_count": null,
   "metadata": {
    "collapsed": true
   },
   "outputs": [],
   "source": [
    "y = IRm[a+b:n]\n",
    "y = np.array(y)\n",
    "X = IRc[b:n-a]\n",
    "X = np.array(X)\n",
    "m,p = polyfit(X, y, 1) \n",
    "plt.plot(X, y, '+', color=\"black\") \n",
    "plt.plot(X, m*X+p, '-', label=\"Iran\", color=\"black\")\n",
    "\n",
    "plt.legend()\n",
    "plt.ylabel('Number of death at t0 (per mile)')\n",
    "plt.xlabel('Number of cases at t0-18 days (per million)')\n",
    "plt.xticks(rotation=90)\n",
    "plt.grid()\n",
    "plt.show()"
   ]
  },
  {
   "cell_type": "code",
   "execution_count": null,
   "metadata": {
    "collapsed": true
   },
   "outputs": [],
   "source": [
    "import statistics\n",
    "statistics.median([1.6, 0.7, 7.6, 3.1, 6.3, 1.3, 7.1, 5.2, 0.9, 2.4])"
   ]
  },
  {
   "cell_type": "code",
   "execution_count": null,
   "metadata": {
    "collapsed": true
   },
   "outputs": [],
   "source": []
  },
  {
   "cell_type": "code",
   "execution_count": null,
   "metadata": {
    "collapsed": true
   },
   "outputs": [],
   "source": []
  },
  {
   "cell_type": "code",
   "execution_count": null,
   "metadata": {
    "collapsed": true
   },
   "outputs": [],
   "source": []
  }
 ],
 "metadata": {
  "kernelspec": {
   "display_name": "Python 3",
   "language": "python",
   "name": "python3"
  },
  "language_info": {
   "codemirror_mode": {
    "name": "ipython",
    "version": 3
   },
   "file_extension": ".py",
   "mimetype": "text/x-python",
   "name": "python",
   "nbconvert_exporter": "python",
   "pygments_lexer": "ipython3",
   "version": "3.6.4"
  }
 },
 "nbformat": 4,
 "nbformat_minor": 2
}
